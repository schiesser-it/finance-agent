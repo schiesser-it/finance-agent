{
 "cells": [
  {
   "cell_type": "markdown",
   "metadata": {},
   "source": [
    "# Portfolio Optimization: Markowitz Efficient Frontier Analysis\n",
    "\n",
    "## Executive Summary\n",
    "This analysis examines a diversified portfolio across multiple asset classes and implements Modern Portfolio Theory (MPT) to optimize risk-adjusted returns. The current portfolio contains $101.6K in assets spanning US equities, international markets, bonds, commodities, and digital assets.\n",
    "\n",
    "### Key Objectives:\n",
    "1. Analyze current portfolio composition and performance\n",
    "2. Calculate historical returns and risk metrics\n",
    "3. Construct the efficient frontier using Markowitz optimization\n",
    "4. Identify optimal portfolio weights for different risk tolerance levels\n",
    "5. Provide actionable recommendations for portfolio rebalancing"
   ]
  },
  {
   "cell_type": "code",
   "execution_count": 27,
   "metadata": {},
   "outputs": [
    {
     "name": "stdout",
     "output_type": "stream",
     "text": [
      "📊 Libraries imported successfully\n",
      "🚀 Ready for portfolio analysis\n"
     ]
    }
   ],
   "source": [
    "# Import required libraries\n",
    "import pandas as pd\n",
    "import numpy as np\n",
    "import yfinance as yf\n",
    "import plotly.express as px\n",
    "import plotly.graph_objects as go\n",
    "from plotly.subplots import make_subplots\n",
    "import plotly.io as pio\n",
    "from scipy.optimize import minimize\n",
    "import warnings\n",
    "warnings.filterwarnings('ignore')\n",
    "\n",
    "# Set plotly theme for professional appearance\n",
    "pio.templates.default = \"plotly_white\"\n",
    "\n",
    "print(\"📊 Libraries imported successfully\")\n",
    "print(\"🚀 Ready for portfolio analysis\")"
   ]
  },
  {
   "cell_type": "markdown",
   "metadata": {},
   "source": [
    "## 1. Portfolio Data Import and Analysis"
   ]
  },
  {
   "cell_type": "code",
   "execution_count": 28,
   "metadata": {},
   "outputs": [
    {
     "name": "stdout",
     "output_type": "stream",
     "text": [
      "📈 Current Portfolio Composition\n",
      "==================================================\n"
     ]
    },
    {
     "data": {
      "text/html": [
       "<div>\n",
       "<style scoped>\n",
       "    .dataframe tbody tr th:only-of-type {\n",
       "        vertical-align: middle;\n",
       "    }\n",
       "\n",
       "    .dataframe tbody tr th {\n",
       "        vertical-align: top;\n",
       "    }\n",
       "\n",
       "    .dataframe thead th {\n",
       "        text-align: right;\n",
       "    }\n",
       "</style>\n",
       "<table border=\"1\" class=\"dataframe\">\n",
       "  <thead>\n",
       "    <tr style=\"text-align: right;\">\n",
       "      <th></th>\n",
       "      <th>asset_class</th>\n",
       "      <th>ticker</th>\n",
       "      <th>name</th>\n",
       "      <th>region</th>\n",
       "      <th>currency</th>\n",
       "      <th>units</th>\n",
       "      <th>price</th>\n",
       "      <th>market_value</th>\n",
       "      <th>cost_basis</th>\n",
       "      <th>unrealized_pl</th>\n",
       "      <th>weight</th>\n",
       "      <th>notes</th>\n",
       "    </tr>\n",
       "  </thead>\n",
       "  <tbody>\n",
       "    <tr>\n",
       "      <th>0</th>\n",
       "      <td>US Equity</td>\n",
       "      <td>VOO</td>\n",
       "      <td>Vanguard S&amp;P 500 ETF</td>\n",
       "      <td>US</td>\n",
       "      <td>USD</td>\n",
       "      <td>85.00</td>\n",
       "      <td>490.25</td>\n",
       "      <td>41671.25</td>\n",
       "      <td>35000.0</td>\n",
       "      <td>6671.25</td>\n",
       "      <td>41.0%</td>\n",
       "      <td>Core US large-cap exposure</td>\n",
       "    </tr>\n",
       "    <tr>\n",
       "      <th>1</th>\n",
       "      <td>International Equity</td>\n",
       "      <td>VEA</td>\n",
       "      <td>Vanguard FTSE Developed Markets ETF</td>\n",
       "      <td>Global ex-US</td>\n",
       "      <td>USD</td>\n",
       "      <td>300.00</td>\n",
       "      <td>53.10</td>\n",
       "      <td>15930.00</td>\n",
       "      <td>15000.0</td>\n",
       "      <td>930.00</td>\n",
       "      <td>15.7%</td>\n",
       "      <td>Developed ex-US equities</td>\n",
       "    </tr>\n",
       "    <tr>\n",
       "      <th>2</th>\n",
       "      <td>Emerging Markets</td>\n",
       "      <td>VWO</td>\n",
       "      <td>Vanguard FTSE Emerging Markets ETF</td>\n",
       "      <td>EM</td>\n",
       "      <td>USD</td>\n",
       "      <td>240.00</td>\n",
       "      <td>45.20</td>\n",
       "      <td>10848.00</td>\n",
       "      <td>11000.0</td>\n",
       "      <td>-152.00</td>\n",
       "      <td>10.7%</td>\n",
       "      <td>EM diversification</td>\n",
       "    </tr>\n",
       "    <tr>\n",
       "      <th>3</th>\n",
       "      <td>US Small-Cap</td>\n",
       "      <td>VB</td>\n",
       "      <td>Vanguard Small-Cap ETF</td>\n",
       "      <td>US</td>\n",
       "      <td>USD</td>\n",
       "      <td>90.00</td>\n",
       "      <td>229.40</td>\n",
       "      <td>20646.00</td>\n",
       "      <td>18000.0</td>\n",
       "      <td>2646.00</td>\n",
       "      <td>20.3%</td>\n",
       "      <td>US small/mid factor tilt</td>\n",
       "    </tr>\n",
       "    <tr>\n",
       "      <th>4</th>\n",
       "      <td>Global Bonds</td>\n",
       "      <td>BND</td>\n",
       "      <td>Vanguard Total Bond Market ETF</td>\n",
       "      <td>US</td>\n",
       "      <td>USD</td>\n",
       "      <td>120.00</td>\n",
       "      <td>72.85</td>\n",
       "      <td>8742.00</td>\n",
       "      <td>9000.0</td>\n",
       "      <td>-258.00</td>\n",
       "      <td>8.6%</td>\n",
       "      <td>Core investment-grade bonds</td>\n",
       "    </tr>\n",
       "    <tr>\n",
       "      <th>5</th>\n",
       "      <td>Treasuries</td>\n",
       "      <td>IEF</td>\n",
       "      <td>iShares 7-10 Year Treasury Bond ETF</td>\n",
       "      <td>US</td>\n",
       "      <td>USD</td>\n",
       "      <td>40.00</td>\n",
       "      <td>97.60</td>\n",
       "      <td>3904.00</td>\n",
       "      <td>4000.0</td>\n",
       "      <td>-96.00</td>\n",
       "      <td>3.8%</td>\n",
       "      <td>Rate hedge/ballast</td>\n",
       "    </tr>\n",
       "    <tr>\n",
       "      <th>6</th>\n",
       "      <td>Gold</td>\n",
       "      <td>GLD</td>\n",
       "      <td>SPDR Gold Shares</td>\n",
       "      <td>Global</td>\n",
       "      <td>USD</td>\n",
       "      <td>12.00</td>\n",
       "      <td>220.15</td>\n",
       "      <td>2641.80</td>\n",
       "      <td>2400.0</td>\n",
       "      <td>241.80</td>\n",
       "      <td>2.6%</td>\n",
       "      <td>Inflation hedge</td>\n",
       "    </tr>\n",
       "    <tr>\n",
       "      <th>7</th>\n",
       "      <td>Bitcoin</td>\n",
       "      <td>BTC-USD</td>\n",
       "      <td>Wrapped Bitcoin</td>\n",
       "      <td>Global</td>\n",
       "      <td>USD</td>\n",
       "      <td>0.15</td>\n",
       "      <td>62500.00</td>\n",
       "      <td>9375.00</td>\n",
       "      <td>6000.0</td>\n",
       "      <td>3375.00</td>\n",
       "      <td>9.2%</td>\n",
       "      <td>Digital asset sleeve</td>\n",
       "    </tr>\n",
       "    <tr>\n",
       "      <th>8</th>\n",
       "      <td>Cash</td>\n",
       "      <td>CASH</td>\n",
       "      <td>USD Cash</td>\n",
       "      <td>US</td>\n",
       "      <td>USD</td>\n",
       "      <td>1.00</td>\n",
       "      <td>1.00</td>\n",
       "      <td>1000.00</td>\n",
       "      <td>1000.0</td>\n",
       "      <td>0.00</td>\n",
       "      <td>1.0%</td>\n",
       "      <td>Liquidity reserve</td>\n",
       "    </tr>\n",
       "  </tbody>\n",
       "</table>\n",
       "</div>"
      ],
      "text/plain": [
       "            asset_class   ticker                                 name  \\\n",
       "0             US Equity      VOO                 Vanguard S&P 500 ETF   \n",
       "1  International Equity      VEA  Vanguard FTSE Developed Markets ETF   \n",
       "2      Emerging Markets      VWO   Vanguard FTSE Emerging Markets ETF   \n",
       "3          US Small-Cap       VB               Vanguard Small-Cap ETF   \n",
       "4          Global Bonds      BND       Vanguard Total Bond Market ETF   \n",
       "5            Treasuries      IEF  iShares 7-10 Year Treasury Bond ETF   \n",
       "6                  Gold      GLD                     SPDR Gold Shares   \n",
       "7               Bitcoin  BTC-USD                      Wrapped Bitcoin   \n",
       "8                  Cash     CASH                             USD Cash   \n",
       "\n",
       "         region currency   units     price  market_value  cost_basis  \\\n",
       "0            US      USD   85.00    490.25      41671.25     35000.0   \n",
       "1  Global ex-US      USD  300.00     53.10      15930.00     15000.0   \n",
       "2            EM      USD  240.00     45.20      10848.00     11000.0   \n",
       "3            US      USD   90.00    229.40      20646.00     18000.0   \n",
       "4            US      USD  120.00     72.85       8742.00      9000.0   \n",
       "5            US      USD   40.00     97.60       3904.00      4000.0   \n",
       "6        Global      USD   12.00    220.15       2641.80      2400.0   \n",
       "7        Global      USD    0.15  62500.00       9375.00      6000.0   \n",
       "8            US      USD    1.00      1.00       1000.00      1000.0   \n",
       "\n",
       "   unrealized_pl weight                        notes  \n",
       "0        6671.25  41.0%   Core US large-cap exposure  \n",
       "1         930.00  15.7%     Developed ex-US equities  \n",
       "2        -152.00  10.7%           EM diversification  \n",
       "3        2646.00  20.3%     US small/mid factor tilt  \n",
       "4        -258.00   8.6%  Core investment-grade bonds  \n",
       "5         -96.00   3.8%           Rate hedge/ballast  \n",
       "6         241.80   2.6%              Inflation hedge  \n",
       "7        3375.00   9.2%         Digital asset sleeve  \n",
       "8           0.00   1.0%            Liquidity reserve  "
      ]
     },
     "metadata": {},
     "output_type": "display_data"
    },
    {
     "name": "stdout",
     "output_type": "stream",
     "text": [
      "\n",
      "💰 Portfolio Summary:\n",
      "Total Market Value: $114,758.05\n",
      "Total Cost Basis: $101,400.00\n",
      "Unrealized P&L: $13,358.05\n",
      "Overall Return: 13.17%\n"
     ]
    }
   ],
   "source": [
    "# Load portfolio data\n",
    "portfolio_df = pd.read_csv('data/example_portfolio.csv')\n",
    "\n",
    "# Display portfolio overview\n",
    "print(\"📈 Current Portfolio Composition\")\n",
    "print(\"=\" * 50)\n",
    "display(portfolio_df)\n",
    "\n",
    "# Calculate portfolio metrics\n",
    "total_market_value = portfolio_df['market_value'].sum()\n",
    "total_cost_basis = portfolio_df['cost_basis'].sum()\n",
    "total_unrealized_pl = portfolio_df['unrealized_pl'].sum()\n",
    "overall_return = (total_unrealized_pl / total_cost_basis) * 100\n",
    "\n",
    "print(f\"\\n💰 Portfolio Summary:\")\n",
    "print(f\"Total Market Value: ${total_market_value:,.2f}\")\n",
    "print(f\"Total Cost Basis: ${total_cost_basis:,.2f}\")\n",
    "print(f\"Unrealized P&L: ${total_unrealized_pl:,.2f}\")\n",
    "print(f\"Overall Return: {overall_return:.2f}%\")"
   ]
  },
  {
   "cell_type": "code",
   "execution_count": 43,
   "metadata": {},
   "outputs": [
    {
     "data": {
      "application/vnd.plotly.v1+json": {
       "config": {
        "plotlyServerURL": "https://plot.ly"
       },
       "data": [
        {
         "domain": {
          "x": [
           0,
           0.45
          ],
          "y": [
           0.625,
           1
          ]
         },
         "labels": [
          "Vanguard S&P 500 ETF",
          "Vanguard FTSE Developed Markets ETF",
          "Vanguard FTSE Emerging Markets ETF",
          "Vanguard Small-Cap ETF",
          "Vanguard Total Bond Market ETF",
          "iShares 7-10 Year Treasury Bond ETF",
          "SPDR Gold Shares",
          "Wrapped Bitcoin",
          "USD Cash"
         ],
         "marker": {
          "colors": [
           "rgb(141,211,199)",
           "rgb(255,255,179)",
           "rgb(190,186,218)",
           "rgb(251,128,114)",
           "rgb(128,177,211)",
           "rgb(253,180,98)",
           "rgb(179,222,105)",
           "rgb(252,205,229)",
           "rgb(217,217,217)",
           "rgb(188,128,189)",
           "rgb(204,235,197)",
           "rgb(255,237,111)"
          ]
         },
         "textinfo": "label+percent",
         "textposition": "outside",
         "type": "pie",
         "values": {
          "bdata": "AAAAAOhY5EAAAAAAAB3PQAAAAAAAMMVAAAAAAIAp1EAAAAAAABPBQAAAAAAAgK5AmpmZmZmjpEAAAAAAgE/CQAAAAAAAQI9A",
          "dtype": "f8"
         }
        },
        {
         "marker": {
          "color": "lightblue"
         },
         "name": "Market Value",
         "type": "bar",
         "x": [
          "Bitcoin",
          "Cash",
          "Emerging Markets",
          "Global Bonds",
          "Gold",
          "International Equity",
          "Treasuries",
          "US Equity",
          "US Small-Cap"
         ],
         "xaxis": "x",
         "y": {
          "bdata": "AAAAAIBPwkAAAAAAAECPQAAAAAAAMMVAAAAAAAATwUCamZmZmaOkQAAAAAAAHc9AAAAAAACArkAAAAAA6FjkQAAAAACAKdRA",
          "dtype": "f8"
         },
         "yaxis": "y"
        },
        {
         "marker": {
          "color": [
           "green",
           "green",
           "red",
           "green",
           "red",
           "red",
           "green",
           "green",
           "red"
          ]
         },
         "name": "Return %",
         "type": "bar",
         "x": [
          "VOO",
          "VEA",
          "VWO",
          "VB",
          "BND",
          "IEF",
          "GLD",
          "BTC-USD",
          "CASH"
         ],
         "xaxis": "x2",
         "y": {
          "bdata": "+Yqv+IoPM0DNzMzMzMwYQBzWvmHtG/a/ZmZmZmZmLUDv7u7u7u4GwDMzMzMzMwPAZ2ZmZmYmJEAAAAAAACBMQAAAAAAAAAAA",
          "dtype": "f8"
         },
         "yaxis": "y2"
        },
        {
         "marker": {
          "color": "orange",
          "size": 10
         },
         "mode": "markers+text",
         "name": "Weight vs Return",
         "text": [
          "VOO",
          "VEA",
          "VWO",
          "VB",
          "BND",
          "IEF",
          "GLD",
          "BTC-USD",
          "CASH"
         ],
         "textposition": "top center",
         "type": "scatter",
         "x": {
          "bdata": "AAAAAACAREBmZmZmZmYvQGZmZmZmZiVAzczMzMxMNEAzMzMzMzMhQGZmZmZmZg5AzczMzMzMBEBmZmZmZmYiQAAAAAAAAPA/",
          "dtype": "f8"
         },
         "xaxis": "x3",
         "y": {
          "bdata": "+Yqv+IoPM0DNzMzMzMwYQBzWvmHtG/a/ZmZmZmZmLUDv7u7u7u4GwDMzMzMzMwPAZ2ZmZmYmJEAAAAAAACBMQAAAAAAAAAAA",
          "dtype": "f8"
         },
         "yaxis": "y3"
        }
       ],
       "layout": {
        "annotations": [
         {
          "font": {
           "size": 16
          },
          "showarrow": false,
          "text": "Asset Allocation by Value",
          "x": 0.225,
          "xanchor": "center",
          "xref": "paper",
          "y": 1,
          "yanchor": "bottom",
          "yref": "paper"
         },
         {
          "font": {
           "size": 16
          },
          "showarrow": false,
          "text": "Asset Class Distribution",
          "x": 0.775,
          "xanchor": "center",
          "xref": "paper",
          "y": 1,
          "yanchor": "bottom",
          "yref": "paper"
         },
         {
          "font": {
           "size": 16
          },
          "showarrow": false,
          "text": "Performance by Asset",
          "x": 0.225,
          "xanchor": "center",
          "xref": "paper",
          "y": 0.375,
          "yanchor": "bottom",
          "yref": "paper"
         },
         {
          "font": {
           "size": 16
          },
          "showarrow": false,
          "text": "Weight vs Return",
          "x": 0.775,
          "xanchor": "center",
          "xref": "paper",
          "y": 0.375,
          "yanchor": "bottom",
          "yref": "paper"
         }
        ],
        "height": 1200,
        "showlegend": false,
        "template": {
         "data": {
          "bar": [
           {
            "error_x": {
             "color": "#2a3f5f"
            },
            "error_y": {
             "color": "#2a3f5f"
            },
            "marker": {
             "line": {
              "color": "white",
              "width": 0.5
             },
             "pattern": {
              "fillmode": "overlay",
              "size": 10,
              "solidity": 0.2
             }
            },
            "type": "bar"
           }
          ],
          "barpolar": [
           {
            "marker": {
             "line": {
              "color": "white",
              "width": 0.5
             },
             "pattern": {
              "fillmode": "overlay",
              "size": 10,
              "solidity": 0.2
             }
            },
            "type": "barpolar"
           }
          ],
          "carpet": [
           {
            "aaxis": {
             "endlinecolor": "#2a3f5f",
             "gridcolor": "#C8D4E3",
             "linecolor": "#C8D4E3",
             "minorgridcolor": "#C8D4E3",
             "startlinecolor": "#2a3f5f"
            },
            "baxis": {
             "endlinecolor": "#2a3f5f",
             "gridcolor": "#C8D4E3",
             "linecolor": "#C8D4E3",
             "minorgridcolor": "#C8D4E3",
             "startlinecolor": "#2a3f5f"
            },
            "type": "carpet"
           }
          ],
          "choropleth": [
           {
            "colorbar": {
             "outlinewidth": 0,
             "ticks": ""
            },
            "type": "choropleth"
           }
          ],
          "contour": [
           {
            "colorbar": {
             "outlinewidth": 0,
             "ticks": ""
            },
            "colorscale": [
             [
              0,
              "#0d0887"
             ],
             [
              0.1111111111111111,
              "#46039f"
             ],
             [
              0.2222222222222222,
              "#7201a8"
             ],
             [
              0.3333333333333333,
              "#9c179e"
             ],
             [
              0.4444444444444444,
              "#bd3786"
             ],
             [
              0.5555555555555556,
              "#d8576b"
             ],
             [
              0.6666666666666666,
              "#ed7953"
             ],
             [
              0.7777777777777778,
              "#fb9f3a"
             ],
             [
              0.8888888888888888,
              "#fdca26"
             ],
             [
              1,
              "#f0f921"
             ]
            ],
            "type": "contour"
           }
          ],
          "contourcarpet": [
           {
            "colorbar": {
             "outlinewidth": 0,
             "ticks": ""
            },
            "type": "contourcarpet"
           }
          ],
          "heatmap": [
           {
            "colorbar": {
             "outlinewidth": 0,
             "ticks": ""
            },
            "colorscale": [
             [
              0,
              "#0d0887"
             ],
             [
              0.1111111111111111,
              "#46039f"
             ],
             [
              0.2222222222222222,
              "#7201a8"
             ],
             [
              0.3333333333333333,
              "#9c179e"
             ],
             [
              0.4444444444444444,
              "#bd3786"
             ],
             [
              0.5555555555555556,
              "#d8576b"
             ],
             [
              0.6666666666666666,
              "#ed7953"
             ],
             [
              0.7777777777777778,
              "#fb9f3a"
             ],
             [
              0.8888888888888888,
              "#fdca26"
             ],
             [
              1,
              "#f0f921"
             ]
            ],
            "type": "heatmap"
           }
          ],
          "histogram": [
           {
            "marker": {
             "pattern": {
              "fillmode": "overlay",
              "size": 10,
              "solidity": 0.2
             }
            },
            "type": "histogram"
           }
          ],
          "histogram2d": [
           {
            "colorbar": {
             "outlinewidth": 0,
             "ticks": ""
            },
            "colorscale": [
             [
              0,
              "#0d0887"
             ],
             [
              0.1111111111111111,
              "#46039f"
             ],
             [
              0.2222222222222222,
              "#7201a8"
             ],
             [
              0.3333333333333333,
              "#9c179e"
             ],
             [
              0.4444444444444444,
              "#bd3786"
             ],
             [
              0.5555555555555556,
              "#d8576b"
             ],
             [
              0.6666666666666666,
              "#ed7953"
             ],
             [
              0.7777777777777778,
              "#fb9f3a"
             ],
             [
              0.8888888888888888,
              "#fdca26"
             ],
             [
              1,
              "#f0f921"
             ]
            ],
            "type": "histogram2d"
           }
          ],
          "histogram2dcontour": [
           {
            "colorbar": {
             "outlinewidth": 0,
             "ticks": ""
            },
            "colorscale": [
             [
              0,
              "#0d0887"
             ],
             [
              0.1111111111111111,
              "#46039f"
             ],
             [
              0.2222222222222222,
              "#7201a8"
             ],
             [
              0.3333333333333333,
              "#9c179e"
             ],
             [
              0.4444444444444444,
              "#bd3786"
             ],
             [
              0.5555555555555556,
              "#d8576b"
             ],
             [
              0.6666666666666666,
              "#ed7953"
             ],
             [
              0.7777777777777778,
              "#fb9f3a"
             ],
             [
              0.8888888888888888,
              "#fdca26"
             ],
             [
              1,
              "#f0f921"
             ]
            ],
            "type": "histogram2dcontour"
           }
          ],
          "mesh3d": [
           {
            "colorbar": {
             "outlinewidth": 0,
             "ticks": ""
            },
            "type": "mesh3d"
           }
          ],
          "parcoords": [
           {
            "line": {
             "colorbar": {
              "outlinewidth": 0,
              "ticks": ""
             }
            },
            "type": "parcoords"
           }
          ],
          "pie": [
           {
            "automargin": true,
            "type": "pie"
           }
          ],
          "scatter": [
           {
            "fillpattern": {
             "fillmode": "overlay",
             "size": 10,
             "solidity": 0.2
            },
            "type": "scatter"
           }
          ],
          "scatter3d": [
           {
            "line": {
             "colorbar": {
              "outlinewidth": 0,
              "ticks": ""
             }
            },
            "marker": {
             "colorbar": {
              "outlinewidth": 0,
              "ticks": ""
             }
            },
            "type": "scatter3d"
           }
          ],
          "scattercarpet": [
           {
            "marker": {
             "colorbar": {
              "outlinewidth": 0,
              "ticks": ""
             }
            },
            "type": "scattercarpet"
           }
          ],
          "scattergeo": [
           {
            "marker": {
             "colorbar": {
              "outlinewidth": 0,
              "ticks": ""
             }
            },
            "type": "scattergeo"
           }
          ],
          "scattergl": [
           {
            "marker": {
             "colorbar": {
              "outlinewidth": 0,
              "ticks": ""
             }
            },
            "type": "scattergl"
           }
          ],
          "scattermap": [
           {
            "marker": {
             "colorbar": {
              "outlinewidth": 0,
              "ticks": ""
             }
            },
            "type": "scattermap"
           }
          ],
          "scattermapbox": [
           {
            "marker": {
             "colorbar": {
              "outlinewidth": 0,
              "ticks": ""
             }
            },
            "type": "scattermapbox"
           }
          ],
          "scatterpolar": [
           {
            "marker": {
             "colorbar": {
              "outlinewidth": 0,
              "ticks": ""
             }
            },
            "type": "scatterpolar"
           }
          ],
          "scatterpolargl": [
           {
            "marker": {
             "colorbar": {
              "outlinewidth": 0,
              "ticks": ""
             }
            },
            "type": "scatterpolargl"
           }
          ],
          "scatterternary": [
           {
            "marker": {
             "colorbar": {
              "outlinewidth": 0,
              "ticks": ""
             }
            },
            "type": "scatterternary"
           }
          ],
          "surface": [
           {
            "colorbar": {
             "outlinewidth": 0,
             "ticks": ""
            },
            "colorscale": [
             [
              0,
              "#0d0887"
             ],
             [
              0.1111111111111111,
              "#46039f"
             ],
             [
              0.2222222222222222,
              "#7201a8"
             ],
             [
              0.3333333333333333,
              "#9c179e"
             ],
             [
              0.4444444444444444,
              "#bd3786"
             ],
             [
              0.5555555555555556,
              "#d8576b"
             ],
             [
              0.6666666666666666,
              "#ed7953"
             ],
             [
              0.7777777777777778,
              "#fb9f3a"
             ],
             [
              0.8888888888888888,
              "#fdca26"
             ],
             [
              1,
              "#f0f921"
             ]
            ],
            "type": "surface"
           }
          ],
          "table": [
           {
            "cells": {
             "fill": {
              "color": "#EBF0F8"
             },
             "line": {
              "color": "white"
             }
            },
            "header": {
             "fill": {
              "color": "#C8D4E3"
             },
             "line": {
              "color": "white"
             }
            },
            "type": "table"
           }
          ]
         },
         "layout": {
          "annotationdefaults": {
           "arrowcolor": "#2a3f5f",
           "arrowhead": 0,
           "arrowwidth": 1
          },
          "autotypenumbers": "strict",
          "coloraxis": {
           "colorbar": {
            "outlinewidth": 0,
            "ticks": ""
           }
          },
          "colorscale": {
           "diverging": [
            [
             0,
             "#8e0152"
            ],
            [
             0.1,
             "#c51b7d"
            ],
            [
             0.2,
             "#de77ae"
            ],
            [
             0.3,
             "#f1b6da"
            ],
            [
             0.4,
             "#fde0ef"
            ],
            [
             0.5,
             "#f7f7f7"
            ],
            [
             0.6,
             "#e6f5d0"
            ],
            [
             0.7,
             "#b8e186"
            ],
            [
             0.8,
             "#7fbc41"
            ],
            [
             0.9,
             "#4d9221"
            ],
            [
             1,
             "#276419"
            ]
           ],
           "sequential": [
            [
             0,
             "#0d0887"
            ],
            [
             0.1111111111111111,
             "#46039f"
            ],
            [
             0.2222222222222222,
             "#7201a8"
            ],
            [
             0.3333333333333333,
             "#9c179e"
            ],
            [
             0.4444444444444444,
             "#bd3786"
            ],
            [
             0.5555555555555556,
             "#d8576b"
            ],
            [
             0.6666666666666666,
             "#ed7953"
            ],
            [
             0.7777777777777778,
             "#fb9f3a"
            ],
            [
             0.8888888888888888,
             "#fdca26"
            ],
            [
             1,
             "#f0f921"
            ]
           ],
           "sequentialminus": [
            [
             0,
             "#0d0887"
            ],
            [
             0.1111111111111111,
             "#46039f"
            ],
            [
             0.2222222222222222,
             "#7201a8"
            ],
            [
             0.3333333333333333,
             "#9c179e"
            ],
            [
             0.4444444444444444,
             "#bd3786"
            ],
            [
             0.5555555555555556,
             "#d8576b"
            ],
            [
             0.6666666666666666,
             "#ed7953"
            ],
            [
             0.7777777777777778,
             "#fb9f3a"
            ],
            [
             0.8888888888888888,
             "#fdca26"
            ],
            [
             1,
             "#f0f921"
            ]
           ]
          },
          "colorway": [
           "#636efa",
           "#EF553B",
           "#00cc96",
           "#ab63fa",
           "#FFA15A",
           "#19d3f3",
           "#FF6692",
           "#B6E880",
           "#FF97FF",
           "#FECB52"
          ],
          "font": {
           "color": "#2a3f5f"
          },
          "geo": {
           "bgcolor": "white",
           "lakecolor": "white",
           "landcolor": "white",
           "showlakes": true,
           "showland": true,
           "subunitcolor": "#C8D4E3"
          },
          "hoverlabel": {
           "align": "left"
          },
          "hovermode": "closest",
          "mapbox": {
           "style": "light"
          },
          "paper_bgcolor": "white",
          "plot_bgcolor": "white",
          "polar": {
           "angularaxis": {
            "gridcolor": "#EBF0F8",
            "linecolor": "#EBF0F8",
            "ticks": ""
           },
           "bgcolor": "white",
           "radialaxis": {
            "gridcolor": "#EBF0F8",
            "linecolor": "#EBF0F8",
            "ticks": ""
           }
          },
          "scene": {
           "xaxis": {
            "backgroundcolor": "white",
            "gridcolor": "#DFE8F3",
            "gridwidth": 2,
            "linecolor": "#EBF0F8",
            "showbackground": true,
            "ticks": "",
            "zerolinecolor": "#EBF0F8"
           },
           "yaxis": {
            "backgroundcolor": "white",
            "gridcolor": "#DFE8F3",
            "gridwidth": 2,
            "linecolor": "#EBF0F8",
            "showbackground": true,
            "ticks": "",
            "zerolinecolor": "#EBF0F8"
           },
           "zaxis": {
            "backgroundcolor": "white",
            "gridcolor": "#DFE8F3",
            "gridwidth": 2,
            "linecolor": "#EBF0F8",
            "showbackground": true,
            "ticks": "",
            "zerolinecolor": "#EBF0F8"
           }
          },
          "shapedefaults": {
           "line": {
            "color": "#2a3f5f"
           }
          },
          "ternary": {
           "aaxis": {
            "gridcolor": "#DFE8F3",
            "linecolor": "#A2B1C6",
            "ticks": ""
           },
           "baxis": {
            "gridcolor": "#DFE8F3",
            "linecolor": "#A2B1C6",
            "ticks": ""
           },
           "bgcolor": "white",
           "caxis": {
            "gridcolor": "#DFE8F3",
            "linecolor": "#A2B1C6",
            "ticks": ""
           }
          },
          "title": {
           "x": 0.05
          },
          "xaxis": {
           "automargin": true,
           "gridcolor": "#EBF0F8",
           "linecolor": "#EBF0F8",
           "ticks": "",
           "title": {
            "standoff": 15
           },
           "zerolinecolor": "#EBF0F8",
           "zerolinewidth": 2
          },
          "yaxis": {
           "automargin": true,
           "gridcolor": "#EBF0F8",
           "linecolor": "#EBF0F8",
           "ticks": "",
           "title": {
            "standoff": 15
           },
           "zerolinecolor": "#EBF0F8",
           "zerolinewidth": 2
          }
         }
        },
        "title": {
         "text": "📊 Portfolio Analysis Dashboard",
         "x": 0.5
        },
        "xaxis": {
         "anchor": "y",
         "domain": [
          0.55,
          1
         ],
         "title": {
          "text": "Asset Class"
         }
        },
        "xaxis2": {
         "anchor": "y2",
         "domain": [
          0,
          0.45
         ],
         "title": {
          "text": "Ticker"
         }
        },
        "xaxis3": {
         "anchor": "y3",
         "domain": [
          0.55,
          1
         ],
         "title": {
          "text": "Weight (%)"
         }
        },
        "yaxis": {
         "anchor": "x",
         "domain": [
          0.625,
          1
         ],
         "title": {
          "text": "Market Value ($)"
         }
        },
        "yaxis2": {
         "anchor": "x2",
         "domain": [
          0,
          0.375
         ],
         "title": {
          "text": "Return (%)"
         }
        },
        "yaxis3": {
         "anchor": "x3",
         "domain": [
          0,
          0.375
         ],
         "title": {
          "text": "Return (%)"
         }
        }
       }
      },
      "image/png": "[encoded data removed]"
     },
     "metadata": {},
     "output_type": "display_data"
    }
   ],
   "source": [
    "# Create portfolio allocation visualization\n",
    "fig = make_subplots(\n",
    "    rows=2, cols=2,\n",
    "    subplot_titles=('Asset Allocation by Value', 'Asset Class Distribution', \n",
    "                   'Performance by Asset', 'Weight vs Return'),\n",
    "    specs=[[{\"type\": \"pie\"}, {\"type\": \"bar\"}],\n",
    "           [{\"type\": \"bar\"}, {\"type\": \"scatter\"}]]\n",
    ")\n",
    "\n",
    "# Portfolio allocation pie chart\n",
    "fig.add_trace(\n",
    "    go.Pie(\n",
    "        labels=portfolio_df['name'],\n",
    "        values=portfolio_df['market_value'],\n",
    "        textinfo='label+percent',\n",
    "        textposition='outside',\n",
    "        marker=dict(colors=px.colors.qualitative.Set3)\n",
    "    ),\n",
    "    row=1, col=1\n",
    ")\n",
    "\n",
    "# Asset class distribution\n",
    "asset_class_summary = portfolio_df.groupby('asset_class')['market_value'].sum().reset_index()\n",
    "fig.add_trace(\n",
    "    go.Bar(\n",
    "        x=asset_class_summary['asset_class'],\n",
    "        y=asset_class_summary['market_value'],\n",
    "        marker_color='lightblue',\n",
    "        name='Market Value'\n",
    "    ),\n",
    "    row=1, col=2\n",
    ")\n",
    "\n",
    "# Performance by asset\n",
    "portfolio_df['return_pct'] = (portfolio_df['unrealized_pl'] / portfolio_df['cost_basis']) * 100\n",
    "colors = ['green' if x > 0 else 'red' for x in portfolio_df['return_pct']]\n",
    "\n",
    "fig.add_trace(\n",
    "    go.Bar(\n",
    "        x=portfolio_df['ticker'],\n",
    "        y=portfolio_df['return_pct'],\n",
    "        marker_color=colors,\n",
    "        name='Return %'\n",
    "    ),\n",
    "    row=2, col=1\n",
    ")\n",
    "\n",
    "# Weight vs Return scatter\n",
    "portfolio_df['weight_numeric'] = portfolio_df['weight'].str.rstrip('%').astype(float)\n",
    "fig.add_trace(\n",
    "    go.Scatter(\n",
    "        x=portfolio_df['weight_numeric'],\n",
    "        y=portfolio_df['return_pct'],\n",
    "        mode='markers+text',\n",
    "        text=portfolio_df['ticker'],\n",
    "        textposition='top center',\n",
    "        marker=dict(size=10, color='orange'),\n",
    "        name='Weight vs Return'\n",
    "    ),\n",
    "    row=2, col=2\n",
    ")\n",
    "\n",
    "fig.update_layout(\n",
    "    height=1200,\n",
    "    title_text=\"📊 Portfolio Analysis Dashboard\",\n",
    "    title_x=0.5,\n",
    "    showlegend=False\n",
    ")\n",
    "\n",
    "fig.update_xaxes(title_text=\"Asset Class\", row=1, col=2)\n",
    "fig.update_yaxes(title_text=\"Market Value ($)\", row=1, col=2)\n",
    "fig.update_xaxes(title_text=\"Ticker\", row=2, col=1)\n",
    "fig.update_yaxes(title_text=\"Return (%)\", row=2, col=1)\n",
    "fig.update_xaxes(title_text=\"Weight (%)\", row=2, col=2)\n",
    "fig.update_yaxes(title_text=\"Return (%)\", row=2, col=2)\n",
    "\n",
    "fig.show()"
   ]
  },
  {
   "cell_type": "markdown",
   "metadata": {},
   "source": [
    "## 2. Historical Data Collection and Returns Analysis"
   ]
  },
  {
   "cell_type": "code",
   "execution_count": 30,
   "metadata": {},
   "outputs": [
    {
     "name": "stdout",
     "output_type": "stream",
     "text": [
      "📈 Analyzing 8 securities: VOO, VEA, VWO, VB, BND, IEF, GLD, BTC-USD\n",
      "\n",
      "⏳ Downloading historical price data...\n"
     ]
    },
    {
     "name": "stderr",
     "output_type": "stream",
     "text": [
      "[*********************100%***********************]  8 of 8 completed"
     ]
    },
    {
     "name": "stdout",
     "output_type": "stream",
     "text": [
      "✅ Retrieved 1097 days of price data\n",
      "📊 Calculated 1094 days of return data\n",
      "\n",
      "📈 Recent Price Data (Last 5 Days):\n"
     ]
    },
    {
     "name": "stderr",
     "output_type": "stream",
     "text": [
      "\n"
     ]
    },
    {
     "data": {
      "text/html": [
       "<div>\n",
       "<style scoped>\n",
       "    .dataframe tbody tr th:only-of-type {\n",
       "        vertical-align: middle;\n",
       "    }\n",
       "\n",
       "    .dataframe tbody tr th {\n",
       "        vertical-align: top;\n",
       "    }\n",
       "\n",
       "    .dataframe thead th {\n",
       "        text-align: right;\n",
       "    }\n",
       "</style>\n",
       "<table border=\"1\" class=\"dataframe\">\n",
       "  <thead>\n",
       "    <tr style=\"text-align: right;\">\n",
       "      <th>Ticker</th>\n",
       "      <th>BND</th>\n",
       "      <th>BTC-USD</th>\n",
       "      <th>GLD</th>\n",
       "      <th>IEF</th>\n",
       "      <th>VB</th>\n",
       "      <th>VEA</th>\n",
       "      <th>VOO</th>\n",
       "      <th>VWO</th>\n",
       "    </tr>\n",
       "    <tr>\n",
       "      <th>Date</th>\n",
       "      <th></th>\n",
       "      <th></th>\n",
       "      <th></th>\n",
       "      <th></th>\n",
       "      <th></th>\n",
       "      <th></th>\n",
       "      <th></th>\n",
       "      <th></th>\n",
       "    </tr>\n",
       "  </thead>\n",
       "  <tbody>\n",
       "    <tr>\n",
       "      <th>2025-08-16</th>\n",
       "      <td>NaN</td>\n",
       "      <td>117491.351562</td>\n",
       "      <td>NaN</td>\n",
       "      <td>NaN</td>\n",
       "      <td>NaN</td>\n",
       "      <td>NaN</td>\n",
       "      <td>NaN</td>\n",
       "      <td>NaN</td>\n",
       "    </tr>\n",
       "    <tr>\n",
       "      <th>2025-08-17</th>\n",
       "      <td>NaN</td>\n",
       "      <td>117453.062500</td>\n",
       "      <td>NaN</td>\n",
       "      <td>NaN</td>\n",
       "      <td>NaN</td>\n",
       "      <td>NaN</td>\n",
       "      <td>NaN</td>\n",
       "      <td>NaN</td>\n",
       "    </tr>\n",
       "    <tr>\n",
       "      <th>2025-08-18</th>\n",
       "      <td>73.360001</td>\n",
       "      <td>116252.312500</td>\n",
       "      <td>306.950012</td>\n",
       "      <td>95.139999</td>\n",
       "      <td>246.559998</td>\n",
       "      <td>58.810001</td>\n",
       "      <td>591.359985</td>\n",
       "      <td>51.750000</td>\n",
       "    </tr>\n",
       "    <tr>\n",
       "      <th>2025-08-19</th>\n",
       "      <td>73.500000</td>\n",
       "      <td>112831.179688</td>\n",
       "      <td>305.269989</td>\n",
       "      <td>95.379997</td>\n",
       "      <td>246.210007</td>\n",
       "      <td>58.740002</td>\n",
       "      <td>588.130005</td>\n",
       "      <td>51.380001</td>\n",
       "    </tr>\n",
       "    <tr>\n",
       "      <th>2025-08-20</th>\n",
       "      <td>NaN</td>\n",
       "      <td>113587.742188</td>\n",
       "      <td>NaN</td>\n",
       "      <td>NaN</td>\n",
       "      <td>NaN</td>\n",
       "      <td>NaN</td>\n",
       "      <td>NaN</td>\n",
       "      <td>NaN</td>\n",
       "    </tr>\n",
       "  </tbody>\n",
       "</table>\n",
       "</div>"
      ],
      "text/plain": [
       "Ticker            BND        BTC-USD         GLD        IEF          VB  \\\n",
       "Date                                                                      \n",
       "2025-08-16        NaN  117491.351562         NaN        NaN         NaN   \n",
       "2025-08-17        NaN  117453.062500         NaN        NaN         NaN   \n",
       "2025-08-18  73.360001  116252.312500  306.950012  95.139999  246.559998   \n",
       "2025-08-19  73.500000  112831.179688  305.269989  95.379997  246.210007   \n",
       "2025-08-20        NaN  113587.742188         NaN        NaN         NaN   \n",
       "\n",
       "Ticker            VEA         VOO        VWO  \n",
       "Date                                          \n",
       "2025-08-16        NaN         NaN        NaN  \n",
       "2025-08-17        NaN         NaN        NaN  \n",
       "2025-08-18  58.810001  591.359985  51.750000  \n",
       "2025-08-19  58.740002  588.130005  51.380001  \n",
       "2025-08-20        NaN         NaN        NaN  "
      ]
     },
     "metadata": {},
     "output_type": "display_data"
    }
   ],
   "source": [
    "# Extract tickers (excluding cash)\n",
    "tickers = portfolio_df[portfolio_df['ticker'] != 'CASH']['ticker'].tolist()\n",
    "print(f\"📈 Analyzing {len(tickers)} securities: {', '.join(tickers)}\")\n",
    "\n",
    "# Download 3 years of historical data\n",
    "print(\"\\n⏳ Downloading historical price data...\")\n",
    "data = yf.download(tickers, period='3y', auto_adjust=True)['Close']\n",
    "\n",
    "# Handle single ticker case\n",
    "if len(tickers) == 1:\n",
    "    data = data.to_frame()\n",
    "    data.columns = tickers\n",
    "\n",
    "# Calculate daily returns\n",
    "returns = data.pct_change().dropna()\n",
    "print(f\"✅ Retrieved {len(data)} days of price data\")\n",
    "print(f\"📊 Calculated {len(returns)} days of return data\")\n",
    "\n",
    "# Display recent performance\n",
    "print(\"\\n📈 Recent Price Data (Last 5 Days):\")\n",
    "display(data.tail())"
   ]
  },
  {
   "cell_type": "code",
   "execution_count": 31,
   "metadata": {},
   "outputs": [
    {
     "name": "stdout",
     "output_type": "stream",
     "text": [
      "📊 Risk-Return Metrics (3-Year Historical):\n",
      "============================================================\n"
     ]
    },
    {
     "data": {
      "text/html": [
       "<div>\n",
       "<style scoped>\n",
       "    .dataframe tbody tr th:only-of-type {\n",
       "        vertical-align: middle;\n",
       "    }\n",
       "\n",
       "    .dataframe tbody tr th {\n",
       "        vertical-align: top;\n",
       "    }\n",
       "\n",
       "    .dataframe thead th {\n",
       "        text-align: right;\n",
       "    }\n",
       "</style>\n",
       "<table border=\"1\" class=\"dataframe\">\n",
       "  <thead>\n",
       "    <tr style=\"text-align: right;\">\n",
       "      <th></th>\n",
       "      <th>Ticker</th>\n",
       "      <th>Annual Return %</th>\n",
       "      <th>Annual Volatility %</th>\n",
       "      <th>Sharpe Ratio</th>\n",
       "    </tr>\n",
       "  </thead>\n",
       "  <tbody>\n",
       "    <tr>\n",
       "      <th>0</th>\n",
       "      <td>BND</td>\n",
       "      <td>1.97</td>\n",
       "      <td>5.37</td>\n",
       "      <td>0.3672</td>\n",
       "    </tr>\n",
       "    <tr>\n",
       "      <th>1</th>\n",
       "      <td>BTC-USD</td>\n",
       "      <td>46.57</td>\n",
       "      <td>40.37</td>\n",
       "      <td>1.1537</td>\n",
       "    </tr>\n",
       "    <tr>\n",
       "      <th>2</th>\n",
       "      <td>GLD</td>\n",
       "      <td>15.47</td>\n",
       "      <td>12.85</td>\n",
       "      <td>1.2042</td>\n",
       "    </tr>\n",
       "    <tr>\n",
       "      <th>3</th>\n",
       "      <td>IEF</td>\n",
       "      <td>0.91</td>\n",
       "      <td>6.78</td>\n",
       "      <td>0.1340</td>\n",
       "    </tr>\n",
       "    <tr>\n",
       "      <th>4</th>\n",
       "      <td>VB</td>\n",
       "      <td>7.76</td>\n",
       "      <td>17.17</td>\n",
       "      <td>0.4520</td>\n",
       "    </tr>\n",
       "    <tr>\n",
       "      <th>5</th>\n",
       "      <td>VEA</td>\n",
       "      <td>10.95</td>\n",
       "      <td>13.32</td>\n",
       "      <td>0.8219</td>\n",
       "    </tr>\n",
       "    <tr>\n",
       "      <th>6</th>\n",
       "      <td>VOO</td>\n",
       "      <td>12.06</td>\n",
       "      <td>13.92</td>\n",
       "      <td>0.8664</td>\n",
       "    </tr>\n",
       "    <tr>\n",
       "      <th>7</th>\n",
       "      <td>VWO</td>\n",
       "      <td>8.30</td>\n",
       "      <td>13.68</td>\n",
       "      <td>0.6069</td>\n",
       "    </tr>\n",
       "  </tbody>\n",
       "</table>\n",
       "</div>"
      ],
      "text/plain": [
       "    Ticker  Annual Return %  Annual Volatility %  Sharpe Ratio\n",
       "0      BND             1.97                 5.37        0.3672\n",
       "1  BTC-USD            46.57                40.37        1.1537\n",
       "2      GLD            15.47                12.85        1.2042\n",
       "3      IEF             0.91                 6.78        0.1340\n",
       "4       VB             7.76                17.17        0.4520\n",
       "5      VEA            10.95                13.32        0.8219\n",
       "6      VOO            12.06                13.92        0.8664\n",
       "7      VWO             8.30                13.68        0.6069"
      ]
     },
     "metadata": {},
     "output_type": "display_data"
    }
   ],
   "source": [
    "# Calculate key statistics\n",
    "annual_returns = returns.mean() * 252\n",
    "annual_volatility = returns.std() * np.sqrt(252)\n",
    "sharpe_ratio = annual_returns / annual_volatility\n",
    "\n",
    "# Create performance metrics DataFrame\n",
    "performance_metrics = pd.DataFrame({\n",
    "    'Ticker': annual_returns.index,\n",
    "    'Annual Return': annual_returns.values,\n",
    "    'Annual Volatility': annual_volatility.values,\n",
    "    'Sharpe Ratio': sharpe_ratio.values\n",
    "})\n",
    "\n",
    "performance_metrics = performance_metrics.round(4)\n",
    "performance_metrics['Annual Return %'] = (performance_metrics['Annual Return'] * 100).round(2)\n",
    "performance_metrics['Annual Volatility %'] = (performance_metrics['Annual Volatility'] * 100).round(2)\n",
    "\n",
    "print(\"📊 Risk-Return Metrics (3-Year Historical):\")\n",
    "print(\"=\" * 60)\n",
    "display(performance_metrics[['Ticker', 'Annual Return %', 'Annual Volatility %', 'Sharpe Ratio']])"
   ]
  },
  {
   "cell_type": "code",
   "execution_count": 32,
   "metadata": {},
   "outputs": [
    {
     "data": {
      "application/vnd.plotly.v1+json": {
       "config": {
        "plotlyServerURL": "https://plot.ly"
       },
       "data": [
        {
         "marker": {
          "color": {
           "bdata": "OdbFbTSA1z+9UpYhjnXyP799HThnRPM/9P3UeOkmwT8hsHJoke3cPwWjkjoBTeo/CyQofoy56z8kKH6MuWvjPw==",
           "dtype": "f8"
          },
          "colorbar": {
           "title": {
            "text": "Sharpe Ratio"
           }
          },
          "colorscale": [
           [
            0,
            "rgb(165,0,38)"
           ],
           [
            0.1,
            "rgb(215,48,39)"
           ],
           [
            0.2,
            "rgb(244,109,67)"
           ],
           [
            0.3,
            "rgb(253,174,97)"
           ],
           [
            0.4,
            "rgb(254,224,139)"
           ],
           [
            0.5,
            "rgb(255,255,191)"
           ],
           [
            0.6,
            "rgb(217,239,139)"
           ],
           [
            0.7,
            "rgb(166,217,106)"
           ],
           [
            0.8,
            "rgb(102,189,99)"
           ],
           [
            0.9,
            "rgb(26,152,80)"
           ],
           [
            1,
            "rgb(0,104,55)"
           ]
          ],
          "showscale": true,
          "size": {
           "bdata": "16NwPQoXUUCkcD0K1+taQD0K16NwjVtAmpmZmZlZTEBmZmZmZiZSQK5H4XoUxlZAFK5H4XpUV0CuR+F6FBZUQA==",
           "dtype": "f8"
          }
         },
         "mode": "markers+text",
         "name": "Securities",
         "text": [
          "BND",
          "BTC-USD",
          "GLD",
          "IEF",
          "VB",
          "VEA",
          "VOO",
          "VWO"
         ],
         "textposition": "top center",
         "type": "scatter",
         "x": {
          "bdata": "exSuR+F6FUCPwvUoXC9EQDMzMzMzsylAH4XrUbgeG0DsUbgehSsxQKRwPQrXoypA16NwPQrXK0Bcj8L1KFwrQA==",
          "dtype": "f8"
         },
         "y": {
          "bdata": "hetRuB6F/z8pXI/C9UhHQHE9Ctej8C5AH4XrUbge7T8K16NwPQofQGZmZmZm5iVAH4XrUbgeKECamZmZmZkgQA==",
          "dtype": "f8"
         }
        }
       ],
       "layout": {
        "annotations": [
         {
          "font": {
           "size": 10
          },
          "showarrow": false,
          "text": "Bubble size represents Sharpe Ratio<br>Green = Higher Sharpe, Red = Lower Sharpe",
          "x": 0.02,
          "xref": "paper",
          "y": 0.98,
          "yref": "paper"
         }
        ],
        "height": 600,
        "showlegend": false,
        "template": {
         "data": {
          "bar": [
           {
            "error_x": {
             "color": "#2a3f5f"
            },
            "error_y": {
             "color": "#2a3f5f"
            },
            "marker": {
             "line": {
              "color": "white",
              "width": 0.5
             },
             "pattern": {
              "fillmode": "overlay",
              "size": 10,
              "solidity": 0.2
             }
            },
            "type": "bar"
           }
          ],
          "barpolar": [
           {
            "marker": {
             "line": {
              "color": "white",
              "width": 0.5
             },
             "pattern": {
              "fillmode": "overlay",
              "size": 10,
              "solidity": 0.2
             }
            },
            "type": "barpolar"
           }
          ],
          "carpet": [
           {
            "aaxis": {
             "endlinecolor": "#2a3f5f",
             "gridcolor": "#C8D4E3",
             "linecolor": "#C8D4E3",
             "minorgridcolor": "#C8D4E3",
             "startlinecolor": "#2a3f5f"
            },
            "baxis": {
             "endlinecolor": "#2a3f5f",
             "gridcolor": "#C8D4E3",
             "linecolor": "#C8D4E3",
             "minorgridcolor": "#C8D4E3",
             "startlinecolor": "#2a3f5f"
            },
            "type": "carpet"
           }
          ],
          "choropleth": [
           {
            "colorbar": {
             "outlinewidth": 0,
             "ticks": ""
            },
            "type": "choropleth"
           }
          ],
          "contour": [
           {
            "colorbar": {
             "outlinewidth": 0,
             "ticks": ""
            },
            "colorscale": [
             [
              0,
              "#0d0887"
             ],
             [
              0.1111111111111111,
              "#46039f"
             ],
             [
              0.2222222222222222,
              "#7201a8"
             ],
             [
              0.3333333333333333,
              "#9c179e"
             ],
             [
              0.4444444444444444,
              "#bd3786"
             ],
             [
              0.5555555555555556,
              "#d8576b"
             ],
             [
              0.6666666666666666,
              "#ed7953"
             ],
             [
              0.7777777777777778,
              "#fb9f3a"
             ],
             [
              0.8888888888888888,
              "#fdca26"
             ],
             [
              1,
              "#f0f921"
             ]
            ],
            "type": "contour"
           }
          ],
          "contourcarpet": [
           {
            "colorbar": {
             "outlinewidth": 0,
             "ticks": ""
            },
            "type": "contourcarpet"
           }
          ],
          "heatmap": [
           {
            "colorbar": {
             "outlinewidth": 0,
             "ticks": ""
            },
            "colorscale": [
             [
              0,
              "#0d0887"
             ],
             [
              0.1111111111111111,
              "#46039f"
             ],
             [
              0.2222222222222222,
              "#7201a8"
             ],
             [
              0.3333333333333333,
              "#9c179e"
             ],
             [
              0.4444444444444444,
              "#bd3786"
             ],
             [
              0.5555555555555556,
              "#d8576b"
             ],
             [
              0.6666666666666666,
              "#ed7953"
             ],
             [
              0.7777777777777778,
              "#fb9f3a"
             ],
             [
              0.8888888888888888,
              "#fdca26"
             ],
             [
              1,
              "#f0f921"
             ]
            ],
            "type": "heatmap"
           }
          ],
          "histogram": [
           {
            "marker": {
             "pattern": {
              "fillmode": "overlay",
              "size": 10,
              "solidity": 0.2
             }
            },
            "type": "histogram"
           }
          ],
          "histogram2d": [
           {
            "colorbar": {
             "outlinewidth": 0,
             "ticks": ""
            },
            "colorscale": [
             [
              0,
              "#0d0887"
             ],
             [
              0.1111111111111111,
              "#46039f"
             ],
             [
              0.2222222222222222,
              "#7201a8"
             ],
             [
              0.3333333333333333,
              "#9c179e"
             ],
             [
              0.4444444444444444,
              "#bd3786"
             ],
             [
              0.5555555555555556,
              "#d8576b"
             ],
             [
              0.6666666666666666,
              "#ed7953"
             ],
             [
              0.7777777777777778,
              "#fb9f3a"
             ],
             [
              0.8888888888888888,
              "#fdca26"
             ],
             [
              1,
              "#f0f921"
             ]
            ],
            "type": "histogram2d"
           }
          ],
          "histogram2dcontour": [
           {
            "colorbar": {
             "outlinewidth": 0,
             "ticks": ""
            },
            "colorscale": [
             [
              0,
              "#0d0887"
             ],
             [
              0.1111111111111111,
              "#46039f"
             ],
             [
              0.2222222222222222,
              "#7201a8"
             ],
             [
              0.3333333333333333,
              "#9c179e"
             ],
             [
              0.4444444444444444,
              "#bd3786"
             ],
             [
              0.5555555555555556,
              "#d8576b"
             ],
             [
              0.6666666666666666,
              "#ed7953"
             ],
             [
              0.7777777777777778,
              "#fb9f3a"
             ],
             [
              0.8888888888888888,
              "#fdca26"
             ],
             [
              1,
              "#f0f921"
             ]
            ],
            "type": "histogram2dcontour"
           }
          ],
          "mesh3d": [
           {
            "colorbar": {
             "outlinewidth": 0,
             "ticks": ""
            },
            "type": "mesh3d"
           }
          ],
          "parcoords": [
           {
            "line": {
             "colorbar": {
              "outlinewidth": 0,
              "ticks": ""
             }
            },
            "type": "parcoords"
           }
          ],
          "pie": [
           {
            "automargin": true,
            "type": "pie"
           }
          ],
          "scatter": [
           {
            "fillpattern": {
             "fillmode": "overlay",
             "size": 10,
             "solidity": 0.2
            },
            "type": "scatter"
           }
          ],
          "scatter3d": [
           {
            "line": {
             "colorbar": {
              "outlinewidth": 0,
              "ticks": ""
             }
            },
            "marker": {
             "colorbar": {
              "outlinewidth": 0,
              "ticks": ""
             }
            },
            "type": "scatter3d"
           }
          ],
          "scattercarpet": [
           {
            "marker": {
             "colorbar": {
              "outlinewidth": 0,
              "ticks": ""
             }
            },
            "type": "scattercarpet"
           }
          ],
          "scattergeo": [
           {
            "marker": {
             "colorbar": {
              "outlinewidth": 0,
              "ticks": ""
             }
            },
            "type": "scattergeo"
           }
          ],
          "scattergl": [
           {
            "marker": {
             "colorbar": {
              "outlinewidth": 0,
              "ticks": ""
             }
            },
            "type": "scattergl"
           }
          ],
          "scattermap": [
           {
            "marker": {
             "colorbar": {
              "outlinewidth": 0,
              "ticks": ""
             }
            },
            "type": "scattermap"
           }
          ],
          "scattermapbox": [
           {
            "marker": {
             "colorbar": {
              "outlinewidth": 0,
              "ticks": ""
             }
            },
            "type": "scattermapbox"
           }
          ],
          "scatterpolar": [
           {
            "marker": {
             "colorbar": {
              "outlinewidth": 0,
              "ticks": ""
             }
            },
            "type": "scatterpolar"
           }
          ],
          "scatterpolargl": [
           {
            "marker": {
             "colorbar": {
              "outlinewidth": 0,
              "ticks": ""
             }
            },
            "type": "scatterpolargl"
           }
          ],
          "scatterternary": [
           {
            "marker": {
             "colorbar": {
              "outlinewidth": 0,
              "ticks": ""
             }
            },
            "type": "scatterternary"
           }
          ],
          "surface": [
           {
            "colorbar": {
             "outlinewidth": 0,
             "ticks": ""
            },
            "colorscale": [
             [
              0,
              "#0d0887"
             ],
             [
              0.1111111111111111,
              "#46039f"
             ],
             [
              0.2222222222222222,
              "#7201a8"
             ],
             [
              0.3333333333333333,
              "#9c179e"
             ],
             [
              0.4444444444444444,
              "#bd3786"
             ],
             [
              0.5555555555555556,
              "#d8576b"
             ],
             [
              0.6666666666666666,
              "#ed7953"
             ],
             [
              0.7777777777777778,
              "#fb9f3a"
             ],
             [
              0.8888888888888888,
              "#fdca26"
             ],
             [
              1,
              "#f0f921"
             ]
            ],
            "type": "surface"
           }
          ],
          "table": [
           {
            "cells": {
             "fill": {
              "color": "#EBF0F8"
             },
             "line": {
              "color": "white"
             }
            },
            "header": {
             "fill": {
              "color": "#C8D4E3"
             },
             "line": {
              "color": "white"
             }
            },
            "type": "table"
           }
          ]
         },
         "layout": {
          "annotationdefaults": {
           "arrowcolor": "#2a3f5f",
           "arrowhead": 0,
           "arrowwidth": 1
          },
          "autotypenumbers": "strict",
          "coloraxis": {
           "colorbar": {
            "outlinewidth": 0,
            "ticks": ""
           }
          },
          "colorscale": {
           "diverging": [
            [
             0,
             "#8e0152"
            ],
            [
             0.1,
             "#c51b7d"
            ],
            [
             0.2,
             "#de77ae"
            ],
            [
             0.3,
             "#f1b6da"
            ],
            [
             0.4,
             "#fde0ef"
            ],
            [
             0.5,
             "#f7f7f7"
            ],
            [
             0.6,
             "#e6f5d0"
            ],
            [
             0.7,
             "#b8e186"
            ],
            [
             0.8,
             "#7fbc41"
            ],
            [
             0.9,
             "#4d9221"
            ],
            [
             1,
             "#276419"
            ]
           ],
           "sequential": [
            [
             0,
             "#0d0887"
            ],
            [
             0.1111111111111111,
             "#46039f"
            ],
            [
             0.2222222222222222,
             "#7201a8"
            ],
            [
             0.3333333333333333,
             "#9c179e"
            ],
            [
             0.4444444444444444,
             "#bd3786"
            ],
            [
             0.5555555555555556,
             "#d8576b"
            ],
            [
             0.6666666666666666,
             "#ed7953"
            ],
            [
             0.7777777777777778,
             "#fb9f3a"
            ],
            [
             0.8888888888888888,
             "#fdca26"
            ],
            [
             1,
             "#f0f921"
            ]
           ],
           "sequentialminus": [
            [
             0,
             "#0d0887"
            ],
            [
             0.1111111111111111,
             "#46039f"
            ],
            [
             0.2222222222222222,
             "#7201a8"
            ],
            [
             0.3333333333333333,
             "#9c179e"
            ],
            [
             0.4444444444444444,
             "#bd3786"
            ],
            [
             0.5555555555555556,
             "#d8576b"
            ],
            [
             0.6666666666666666,
             "#ed7953"
            ],
            [
             0.7777777777777778,
             "#fb9f3a"
            ],
            [
             0.8888888888888888,
             "#fdca26"
            ],
            [
             1,
             "#f0f921"
            ]
           ]
          },
          "colorway": [
           "#636efa",
           "#EF553B",
           "#00cc96",
           "#ab63fa",
           "#FFA15A",
           "#19d3f3",
           "#FF6692",
           "#B6E880",
           "#FF97FF",
           "#FECB52"
          ],
          "font": {
           "color": "#2a3f5f"
          },
          "geo": {
           "bgcolor": "white",
           "lakecolor": "white",
           "landcolor": "white",
           "showlakes": true,
           "showland": true,
           "subunitcolor": "#C8D4E3"
          },
          "hoverlabel": {
           "align": "left"
          },
          "hovermode": "closest",
          "mapbox": {
           "style": "light"
          },
          "paper_bgcolor": "white",
          "plot_bgcolor": "white",
          "polar": {
           "angularaxis": {
            "gridcolor": "#EBF0F8",
            "linecolor": "#EBF0F8",
            "ticks": ""
           },
           "bgcolor": "white",
           "radialaxis": {
            "gridcolor": "#EBF0F8",
            "linecolor": "#EBF0F8",
            "ticks": ""
           }
          },
          "scene": {
           "xaxis": {
            "backgroundcolor": "white",
            "gridcolor": "#DFE8F3",
            "gridwidth": 2,
            "linecolor": "#EBF0F8",
            "showbackground": true,
            "ticks": "",
            "zerolinecolor": "#EBF0F8"
           },
           "yaxis": {
            "backgroundcolor": "white",
            "gridcolor": "#DFE8F3",
            "gridwidth": 2,
            "linecolor": "#EBF0F8",
            "showbackground": true,
            "ticks": "",
            "zerolinecolor": "#EBF0F8"
           },
           "zaxis": {
            "backgroundcolor": "white",
            "gridcolor": "#DFE8F3",
            "gridwidth": 2,
            "linecolor": "#EBF0F8",
            "showbackground": true,
            "ticks": "",
            "zerolinecolor": "#EBF0F8"
           }
          },
          "shapedefaults": {
           "line": {
            "color": "#2a3f5f"
           }
          },
          "ternary": {
           "aaxis": {
            "gridcolor": "#DFE8F3",
            "linecolor": "#A2B1C6",
            "ticks": ""
           },
           "baxis": {
            "gridcolor": "#DFE8F3",
            "linecolor": "#A2B1C6",
            "ticks": ""
           },
           "bgcolor": "white",
           "caxis": {
            "gridcolor": "#DFE8F3",
            "linecolor": "#A2B1C6",
            "ticks": ""
           }
          },
          "title": {
           "x": 0.05
          },
          "xaxis": {
           "automargin": true,
           "gridcolor": "#EBF0F8",
           "linecolor": "#EBF0F8",
           "ticks": "",
           "title": {
            "standoff": 15
           },
           "zerolinecolor": "#EBF0F8",
           "zerolinewidth": 2
          },
          "yaxis": {
           "automargin": true,
           "gridcolor": "#EBF0F8",
           "linecolor": "#EBF0F8",
           "ticks": "",
           "title": {
            "standoff": 15
           },
           "zerolinecolor": "#EBF0F8",
           "zerolinewidth": 2
          }
         }
        },
        "title": {
         "text": "🎯 Risk-Return Profile of Portfolio Securities"
        },
        "width": 800,
        "xaxis": {
         "title": {
          "text": "Annual Volatility (%)"
         }
        },
        "yaxis": {
         "title": {
          "text": "Annual Return (%)"
         }
        }
       }
      }
     },
     "metadata": {},
     "output_type": "display_data"
    }
   ],
   "source": [
    "# Visualize risk-return profile\n",
    "fig = go.Figure()\n",
    "\n",
    "fig.add_trace(go.Scatter(\n",
    "    x=performance_metrics['Annual Volatility %'],\n",
    "    y=performance_metrics['Annual Return %'],\n",
    "    mode='markers+text',\n",
    "    text=performance_metrics['Ticker'],\n",
    "    textposition='top center',\n",
    "    marker=dict(\n",
    "        size=performance_metrics['Sharpe Ratio'] * 50 + 50,  # Size by Sharpe ratio\n",
    "        color=performance_metrics['Sharpe Ratio'],\n",
    "        colorscale='RdYlGn',\n",
    "        showscale=True,\n",
    "        colorbar=dict(title=\"Sharpe Ratio\")\n",
    "    ),\n",
    "    name='Securities'\n",
    "))\n",
    "\n",
    "fig.update_layout(\n",
    "    title='🎯 Risk-Return Profile of Portfolio Securities',\n",
    "    xaxis_title='Annual Volatility (%)',\n",
    "    yaxis_title='Annual Return (%)',\n",
    "    width=800,\n",
    "    height=600,\n",
    "    showlegend=False\n",
    ")\n",
    "\n",
    "fig.add_annotation(\n",
    "    text=\"Bubble size represents Sharpe Ratio<br>Green = Higher Sharpe, Red = Lower Sharpe\",\n",
    "    xref=\"paper\", yref=\"paper\",\n",
    "    x=0.02, y=0.98,\n",
    "    showarrow=False,\n",
    "    font=dict(size=10)\n",
    ")\n",
    "\n",
    "fig.show()"
   ]
  },
  {
   "cell_type": "markdown",
   "metadata": {},
   "source": [
    "## 3. Correlation Analysis and Risk Assessment"
   ]
  },
  {
   "cell_type": "code",
   "execution_count": 33,
   "metadata": {},
   "outputs": [
    {
     "data": {
      "application/vnd.plotly.v1+json": {
       "config": {
        "plotlyServerURL": "https://plot.ly"
       },
       "data": [
        {
         "colorscale": [
          [
           0,
           "rgb(103,0,31)"
          ],
          [
           0.1,
           "rgb(178,24,43)"
          ],
          [
           0.2,
           "rgb(214,96,77)"
          ],
          [
           0.3,
           "rgb(244,165,130)"
          ],
          [
           0.4,
           "rgb(253,219,199)"
          ],
          [
           0.5,
           "rgb(247,247,247)"
          ],
          [
           0.6,
           "rgb(209,229,240)"
          ],
          [
           0.7,
           "rgb(146,197,222)"
          ],
          [
           0.8,
           "rgb(67,147,195)"
          ],
          [
           0.9,
           "rgb(33,102,172)"
          ],
          [
           1,
           "rgb(5,48,97)"
          ]
         ],
         "showscale": true,
         "text": {
          "bdata": "AAAAAAAA8D+4HoXrUbiuP65H4XoUrtc/XI/C9Shc7z8AAAAAAADQPx+F61G4HtU/KVyPwvUozD9xPQrXo3DNP7gehetRuK4/AAAAAAAA8D+4HoXrUbi+P3sUrkfhepQ/ZmZmZmZm1j+PwvUoXI/SP8P1KFyPwtU/pHA9Ctej0D+uR+F6FK7XP7gehetRuL4/AAAAAAAA8D+uR+F6FK7XPzMzMzMzM8M/UrgehetR2D/D9Shcj8LFPwrXo3A9Ctc/XI/C9Shc7z97FK5H4XqUP65H4XoUrtc/AAAAAAAA8D/sUbgehevBP3E9CtejcM0/KVyPwvUovD/sUbgehevBPwAAAAAAANA/ZmZmZmZm1j8zMzMzMzPDP+xRuB6F68E/AAAAAAAA8D9I4XoUrkfpPylcj8L1KOw/exSuR+F65D8fhetRuB7VP4/C9Shcj9I/UrgehetR2D9xPQrXo3DNP0jhehSuR+k/AAAAAAAA8D/sUbgehevpP5qZmZmZmek/KVyPwvUozD/D9Shcj8LVP8P1KFyPwsU/KVyPwvUovD8pXI/C9SjsP+xRuB6F6+k/AAAAAAAA8D8fhetRuB7lP3E9CtejcM0/pHA9Ctej0D8K16NwPQrXP+xRuB6F68E/exSuR+F65D+amZmZmZnpPx+F61G4HuU/AAAAAAAA8D8=",
          "dtype": "f8",
          "shape": "8, 8"
         },
         "textfont": {
          "size": 10
         },
         "texttemplate": "%{text}",
         "type": "heatmap",
         "x": [
          "BND",
          "BTC-USD",
          "GLD",
          "IEF",
          "VB",
          "VEA",
          "VOO",
          "VWO"
         ],
         "y": [
          "BND",
          "BTC-USD",
          "GLD",
          "IEF",
          "VB",
          "VEA",
          "VOO",
          "VWO"
         ],
         "z": {
          "bdata": "AAAAAAAA8D95bGwvejawP9ikJbBLztc/Pxd9QDFd7z9lpJfxVAHQP3wJB83n/dQ/r2t72TKcyz/I+edesZXNP3lsbC96NrA/AAAAAAAA8D9ijZId61S/P4w+Y2oH55g/z8z4xSZc1j/q6Dog9Y/SP1WLOGW0gdU/+EWKNrSi0D/YpCWwS87XP2KNkh3rVL8/AAAAAAAA8D/9re4vLpHXPw78QhOCs8M/OMRAzpuR2D9taJFTmWLFP2FEQ09IVdc/Pxd9QDFd7z+MPmNqB+eYP/2t7i8ukdc/AAAAAAAA8D9sMkykD2jCP/jjCTUjpM0/FpfOhlVjuz++OS1SqY3CP2Wkl/FUAdA/z8z4xSZc1j8O/EITgrPDP2wyTKQPaMI/AAAAAAAA8D913zFzVT7pP3xrkxcYLOw/7/fC0G595D98CQfN5/3UP+roOiD1j9I/OMRAzpuR2D/44wk1I6TNP3XfMXNVPuk/AAAAAAAA8D9n+wPdoMPpP7Bm3feCrek/r2t72TKcyz9VizhltIHVP21okVOZYsU/FpfOhlVjuz98a5MXGCzsP2f7A92gw+k/AAAAAAAA8D8utf9RwA7lP8j5516xlc0/+EWKNrSi0D9hRENPSFXXP745LVKpjcI/7/fC0G595D+wZt33gq3pPy61/1HADuU/AAAAAAAA8D8=",
          "dtype": "f8",
          "shape": "8, 8"
         },
         "zmid": 0
        }
       ],
       "layout": {
        "height": 600,
        "template": {
         "data": {
          "bar": [
           {
            "error_x": {
             "color": "#2a3f5f"
            },
            "error_y": {
             "color": "#2a3f5f"
            },
            "marker": {
             "line": {
              "color": "white",
              "width": 0.5
             },
             "pattern": {
              "fillmode": "overlay",
              "size": 10,
              "solidity": 0.2
             }
            },
            "type": "bar"
           }
          ],
          "barpolar": [
           {
            "marker": {
             "line": {
              "color": "white",
              "width": 0.5
             },
             "pattern": {
              "fillmode": "overlay",
              "size": 10,
              "solidity": 0.2
             }
            },
            "type": "barpolar"
           }
          ],
          "carpet": [
           {
            "aaxis": {
             "endlinecolor": "#2a3f5f",
             "gridcolor": "#C8D4E3",
             "linecolor": "#C8D4E3",
             "minorgridcolor": "#C8D4E3",
             "startlinecolor": "#2a3f5f"
            },
            "baxis": {
             "endlinecolor": "#2a3f5f",
             "gridcolor": "#C8D4E3",
             "linecolor": "#C8D4E3",
             "minorgridcolor": "#C8D4E3",
             "startlinecolor": "#2a3f5f"
            },
            "type": "carpet"
           }
          ],
          "choropleth": [
           {
            "colorbar": {
             "outlinewidth": 0,
             "ticks": ""
            },
            "type": "choropleth"
           }
          ],
          "contour": [
           {
            "colorbar": {
             "outlinewidth": 0,
             "ticks": ""
            },
            "colorscale": [
             [
              0,
              "#0d0887"
             ],
             [
              0.1111111111111111,
              "#46039f"
             ],
             [
              0.2222222222222222,
              "#7201a8"
             ],
             [
              0.3333333333333333,
              "#9c179e"
             ],
             [
              0.4444444444444444,
              "#bd3786"
             ],
             [
              0.5555555555555556,
              "#d8576b"
             ],
             [
              0.6666666666666666,
              "#ed7953"
             ],
             [
              0.7777777777777778,
              "#fb9f3a"
             ],
             [
              0.8888888888888888,
              "#fdca26"
             ],
             [
              1,
              "#f0f921"
             ]
            ],
            "type": "contour"
           }
          ],
          "contourcarpet": [
           {
            "colorbar": {
             "outlinewidth": 0,
             "ticks": ""
            },
            "type": "contourcarpet"
           }
          ],
          "heatmap": [
           {
            "colorbar": {
             "outlinewidth": 0,
             "ticks": ""
            },
            "colorscale": [
             [
              0,
              "#0d0887"
             ],
             [
              0.1111111111111111,
              "#46039f"
             ],
             [
              0.2222222222222222,
              "#7201a8"
             ],
             [
              0.3333333333333333,
              "#9c179e"
             ],
             [
              0.4444444444444444,
              "#bd3786"
             ],
             [
              0.5555555555555556,
              "#d8576b"
             ],
             [
              0.6666666666666666,
              "#ed7953"
             ],
             [
              0.7777777777777778,
              "#fb9f3a"
             ],
             [
              0.8888888888888888,
              "#fdca26"
             ],
             [
              1,
              "#f0f921"
             ]
            ],
            "type": "heatmap"
           }
          ],
          "histogram": [
           {
            "marker": {
             "pattern": {
              "fillmode": "overlay",
              "size": 10,
              "solidity": 0.2
             }
            },
            "type": "histogram"
           }
          ],
          "histogram2d": [
           {
            "colorbar": {
             "outlinewidth": 0,
             "ticks": ""
            },
            "colorscale": [
             [
              0,
              "#0d0887"
             ],
             [
              0.1111111111111111,
              "#46039f"
             ],
             [
              0.2222222222222222,
              "#7201a8"
             ],
             [
              0.3333333333333333,
              "#9c179e"
             ],
             [
              0.4444444444444444,
              "#bd3786"
             ],
             [
              0.5555555555555556,
              "#d8576b"
             ],
             [
              0.6666666666666666,
              "#ed7953"
             ],
             [
              0.7777777777777778,
              "#fb9f3a"
             ],
             [
              0.8888888888888888,
              "#fdca26"
             ],
             [
              1,
              "#f0f921"
             ]
            ],
            "type": "histogram2d"
           }
          ],
          "histogram2dcontour": [
           {
            "colorbar": {
             "outlinewidth": 0,
             "ticks": ""
            },
            "colorscale": [
             [
              0,
              "#0d0887"
             ],
             [
              0.1111111111111111,
              "#46039f"
             ],
             [
              0.2222222222222222,
              "#7201a8"
             ],
             [
              0.3333333333333333,
              "#9c179e"
             ],
             [
              0.4444444444444444,
              "#bd3786"
             ],
             [
              0.5555555555555556,
              "#d8576b"
             ],
             [
              0.6666666666666666,
              "#ed7953"
             ],
             [
              0.7777777777777778,
              "#fb9f3a"
             ],
             [
              0.8888888888888888,
              "#fdca26"
             ],
             [
              1,
              "#f0f921"
             ]
            ],
            "type": "histogram2dcontour"
           }
          ],
          "mesh3d": [
           {
            "colorbar": {
             "outlinewidth": 0,
             "ticks": ""
            },
            "type": "mesh3d"
           }
          ],
          "parcoords": [
           {
            "line": {
             "colorbar": {
              "outlinewidth": 0,
              "ticks": ""
             }
            },
            "type": "parcoords"
           }
          ],
          "pie": [
           {
            "automargin": true,
            "type": "pie"
           }
          ],
          "scatter": [
           {
            "fillpattern": {
             "fillmode": "overlay",
             "size": 10,
             "solidity": 0.2
            },
            "type": "scatter"
           }
          ],
          "scatter3d": [
           {
            "line": {
             "colorbar": {
              "outlinewidth": 0,
              "ticks": ""
             }
            },
            "marker": {
             "colorbar": {
              "outlinewidth": 0,
              "ticks": ""
             }
            },
            "type": "scatter3d"
           }
          ],
          "scattercarpet": [
           {
            "marker": {
             "colorbar": {
              "outlinewidth": 0,
              "ticks": ""
             }
            },
            "type": "scattercarpet"
           }
          ],
          "scattergeo": [
           {
            "marker": {
             "colorbar": {
              "outlinewidth": 0,
              "ticks": ""
             }
            },
            "type": "scattergeo"
           }
          ],
          "scattergl": [
           {
            "marker": {
             "colorbar": {
              "outlinewidth": 0,
              "ticks": ""
             }
            },
            "type": "scattergl"
           }
          ],
          "scattermap": [
           {
            "marker": {
             "colorbar": {
              "outlinewidth": 0,
              "ticks": ""
             }
            },
            "type": "scattermap"
           }
          ],
          "scattermapbox": [
           {
            "marker": {
             "colorbar": {
              "outlinewidth": 0,
              "ticks": ""
             }
            },
            "type": "scattermapbox"
           }
          ],
          "scatterpolar": [
           {
            "marker": {
             "colorbar": {
              "outlinewidth": 0,
              "ticks": ""
             }
            },
            "type": "scatterpolar"
           }
          ],
          "scatterpolargl": [
           {
            "marker": {
             "colorbar": {
              "outlinewidth": 0,
              "ticks": ""
             }
            },
            "type": "scatterpolargl"
           }
          ],
          "scatterternary": [
           {
            "marker": {
             "colorbar": {
              "outlinewidth": 0,
              "ticks": ""
             }
            },
            "type": "scatterternary"
           }
          ],
          "surface": [
           {
            "colorbar": {
             "outlinewidth": 0,
             "ticks": ""
            },
            "colorscale": [
             [
              0,
              "#0d0887"
             ],
             [
              0.1111111111111111,
              "#46039f"
             ],
             [
              0.2222222222222222,
              "#7201a8"
             ],
             [
              0.3333333333333333,
              "#9c179e"
             ],
             [
              0.4444444444444444,
              "#bd3786"
             ],
             [
              0.5555555555555556,
              "#d8576b"
             ],
             [
              0.6666666666666666,
              "#ed7953"
             ],
             [
              0.7777777777777778,
              "#fb9f3a"
             ],
             [
              0.8888888888888888,
              "#fdca26"
             ],
             [
              1,
              "#f0f921"
             ]
            ],
            "type": "surface"
           }
          ],
          "table": [
           {
            "cells": {
             "fill": {
              "color": "#EBF0F8"
             },
             "line": {
              "color": "white"
             }
            },
            "header": {
             "fill": {
              "color": "#C8D4E3"
             },
             "line": {
              "color": "white"
             }
            },
            "type": "table"
           }
          ]
         },
         "layout": {
          "annotationdefaults": {
           "arrowcolor": "#2a3f5f",
           "arrowhead": 0,
           "arrowwidth": 1
          },
          "autotypenumbers": "strict",
          "coloraxis": {
           "colorbar": {
            "outlinewidth": 0,
            "ticks": ""
           }
          },
          "colorscale": {
           "diverging": [
            [
             0,
             "#8e0152"
            ],
            [
             0.1,
             "#c51b7d"
            ],
            [
             0.2,
             "#de77ae"
            ],
            [
             0.3,
             "#f1b6da"
            ],
            [
             0.4,
             "#fde0ef"
            ],
            [
             0.5,
             "#f7f7f7"
            ],
            [
             0.6,
             "#e6f5d0"
            ],
            [
             0.7,
             "#b8e186"
            ],
            [
             0.8,
             "#7fbc41"
            ],
            [
             0.9,
             "#4d9221"
            ],
            [
             1,
             "#276419"
            ]
           ],
           "sequential": [
            [
             0,
             "#0d0887"
            ],
            [
             0.1111111111111111,
             "#46039f"
            ],
            [
             0.2222222222222222,
             "#7201a8"
            ],
            [
             0.3333333333333333,
             "#9c179e"
            ],
            [
             0.4444444444444444,
             "#bd3786"
            ],
            [
             0.5555555555555556,
             "#d8576b"
            ],
            [
             0.6666666666666666,
             "#ed7953"
            ],
            [
             0.7777777777777778,
             "#fb9f3a"
            ],
            [
             0.8888888888888888,
             "#fdca26"
            ],
            [
             1,
             "#f0f921"
            ]
           ],
           "sequentialminus": [
            [
             0,
             "#0d0887"
            ],
            [
             0.1111111111111111,
             "#46039f"
            ],
            [
             0.2222222222222222,
             "#7201a8"
            ],
            [
             0.3333333333333333,
             "#9c179e"
            ],
            [
             0.4444444444444444,
             "#bd3786"
            ],
            [
             0.5555555555555556,
             "#d8576b"
            ],
            [
             0.6666666666666666,
             "#ed7953"
            ],
            [
             0.7777777777777778,
             "#fb9f3a"
            ],
            [
             0.8888888888888888,
             "#fdca26"
            ],
            [
             1,
             "#f0f921"
            ]
           ]
          },
          "colorway": [
           "#636efa",
           "#EF553B",
           "#00cc96",
           "#ab63fa",
           "#FFA15A",
           "#19d3f3",
           "#FF6692",
           "#B6E880",
           "#FF97FF",
           "#FECB52"
          ],
          "font": {
           "color": "#2a3f5f"
          },
          "geo": {
           "bgcolor": "white",
           "lakecolor": "white",
           "landcolor": "white",
           "showlakes": true,
           "showland": true,
           "subunitcolor": "#C8D4E3"
          },
          "hoverlabel": {
           "align": "left"
          },
          "hovermode": "closest",
          "mapbox": {
           "style": "light"
          },
          "paper_bgcolor": "white",
          "plot_bgcolor": "white",
          "polar": {
           "angularaxis": {
            "gridcolor": "#EBF0F8",
            "linecolor": "#EBF0F8",
            "ticks": ""
           },
           "bgcolor": "white",
           "radialaxis": {
            "gridcolor": "#EBF0F8",
            "linecolor": "#EBF0F8",
            "ticks": ""
           }
          },
          "scene": {
           "xaxis": {
            "backgroundcolor": "white",
            "gridcolor": "#DFE8F3",
            "gridwidth": 2,
            "linecolor": "#EBF0F8",
            "showbackground": true,
            "ticks": "",
            "zerolinecolor": "#EBF0F8"
           },
           "yaxis": {
            "backgroundcolor": "white",
            "gridcolor": "#DFE8F3",
            "gridwidth": 2,
            "linecolor": "#EBF0F8",
            "showbackground": true,
            "ticks": "",
            "zerolinecolor": "#EBF0F8"
           },
           "zaxis": {
            "backgroundcolor": "white",
            "gridcolor": "#DFE8F3",
            "gridwidth": 2,
            "linecolor": "#EBF0F8",
            "showbackground": true,
            "ticks": "",
            "zerolinecolor": "#EBF0F8"
           }
          },
          "shapedefaults": {
           "line": {
            "color": "#2a3f5f"
           }
          },
          "ternary": {
           "aaxis": {
            "gridcolor": "#DFE8F3",
            "linecolor": "#A2B1C6",
            "ticks": ""
           },
           "baxis": {
            "gridcolor": "#DFE8F3",
            "linecolor": "#A2B1C6",
            "ticks": ""
           },
           "bgcolor": "white",
           "caxis": {
            "gridcolor": "#DFE8F3",
            "linecolor": "#A2B1C6",
            "ticks": ""
           }
          },
          "title": {
           "x": 0.05
          },
          "xaxis": {
           "automargin": true,
           "gridcolor": "#EBF0F8",
           "linecolor": "#EBF0F8",
           "ticks": "",
           "title": {
            "standoff": 15
           },
           "zerolinecolor": "#EBF0F8",
           "zerolinewidth": 2
          },
          "yaxis": {
           "automargin": true,
           "gridcolor": "#EBF0F8",
           "linecolor": "#EBF0F8",
           "ticks": "",
           "title": {
            "standoff": 15
           },
           "zerolinecolor": "#EBF0F8",
           "zerolinewidth": 2
          }
         }
        },
        "title": {
         "text": "🔗 Asset Correlation Matrix"
        },
        "width": 800,
        "xaxis": {
         "title": {
          "text": "Assets"
         }
        },
        "yaxis": {
         "title": {
          "text": "Assets"
         }
        }
       }
      }
     },
     "metadata": {},
     "output_type": "display_data"
    },
    {
     "name": "stdout",
     "output_type": "stream",
     "text": [
      "🔍 Correlation Insights:\n",
      "========================================\n",
      "📈 Highest Correlation: BND vs IEF (0.980)\n",
      "📉 Lowest Correlation: BTC-USD vs IEF (0.024)\n",
      "🎯 Average Correlation: 0.374\n"
     ]
    }
   ],
   "source": [
    "# Calculate correlation matrix\n",
    "correlation_matrix = returns.corr()\n",
    "\n",
    "# Create correlation heatmap\n",
    "fig = go.Figure(data=go.Heatmap(\n",
    "    z=correlation_matrix.values,\n",
    "    x=correlation_matrix.columns,\n",
    "    y=correlation_matrix.index,\n",
    "    colorscale='RdBu',\n",
    "    zmid=0,\n",
    "    text=correlation_matrix.round(2).values,\n",
    "    texttemplate=\"%{text}\",\n",
    "    textfont={\"size\": 10},\n",
    "    showscale=True\n",
    "))\n",
    "\n",
    "fig.update_layout(\n",
    "    title='🔗 Asset Correlation Matrix',\n",
    "    width=800,\n",
    "    height=600,\n",
    "    xaxis_title='Assets',\n",
    "    yaxis_title='Assets'\n",
    ")\n",
    "\n",
    "fig.show()\n",
    "\n",
    "print(\"🔍 Correlation Insights:\")\n",
    "print(\"=\" * 40)\n",
    "\n",
    "# Find highest and lowest correlations\n",
    "mask = np.triu(np.ones_like(correlation_matrix), k=1).astype(bool)\n",
    "corr_pairs = correlation_matrix.where(mask).stack().sort_values()\n",
    "\n",
    "print(f\"📈 Highest Correlation: {corr_pairs.index[-1][0]} vs {corr_pairs.index[-1][1]} ({corr_pairs.iloc[-1]:.3f})\")\n",
    "print(f\"📉 Lowest Correlation: {corr_pairs.index[0][0]} vs {corr_pairs.index[0][1]} ({corr_pairs.iloc[0]:.3f})\")\n",
    "print(f\"🎯 Average Correlation: {corr_pairs.mean():.3f}\")"
   ]
  },
  {
   "cell_type": "markdown",
   "metadata": {},
   "source": [
    "## 4. Markowitz Efficient Frontier Construction"
   ]
  },
  {
   "cell_type": "code",
   "execution_count": 34,
   "metadata": {},
   "outputs": [
    {
     "name": "stdout",
     "output_type": "stream",
     "text": [
      "🎯 Setting up optimization for 8 assets\n",
      "📏 Constraints: Weights sum to 1, no short selling (0 ≤ weight ≤ 1)\n"
     ]
    }
   ],
   "source": [
    "# Portfolio optimization functions\n",
    "def portfolio_stats(weights, returns):\n",
    "    \"\"\"\n",
    "    Calculate portfolio return, volatility, and Sharpe ratio\n",
    "    \"\"\"\n",
    "    portfolio_return = np.sum(returns.mean() * weights) * 252\n",
    "    portfolio_volatility = np.sqrt(np.dot(weights.T, np.dot(returns.cov() * 252, weights)))\n",
    "    sharpe_ratio = portfolio_return / portfolio_volatility\n",
    "    return portfolio_return, portfolio_volatility, sharpe_ratio\n",
    "\n",
    "def negative_sharpe(weights, returns):\n",
    "    \"\"\"\n",
    "    Negative Sharpe ratio for optimization (we want to maximize Sharpe)\n",
    "    \"\"\"\n",
    "    return -portfolio_stats(weights, returns)[2]\n",
    "\n",
    "def portfolio_volatility(weights, returns):\n",
    "    \"\"\"\n",
    "    Calculate portfolio volatility\n",
    "    \"\"\"\n",
    "    return portfolio_stats(weights, returns)[1]\n",
    "\n",
    "def portfolio_return(weights, returns):\n",
    "    \"\"\"\n",
    "    Calculate portfolio return\n",
    "    \"\"\"\n",
    "    return portfolio_stats(weights, returns)[0]\n",
    "\n",
    "# Set up optimization constraints\n",
    "num_assets = len(tickers)\n",
    "constraints = ({'type': 'eq', 'fun': lambda x: np.sum(x) - 1})  # Weights sum to 1\n",
    "bounds = tuple((0, 1) for _ in range(num_assets))  # No short selling\n",
    "\n",
    "print(f\"🎯 Setting up optimization for {num_assets} assets\")\n",
    "print(\"📏 Constraints: Weights sum to 1, no short selling (0 ≤ weight ≤ 1)\")"
   ]
  },
  {
   "cell_type": "code",
   "execution_count": 35,
   "metadata": {},
   "outputs": [
    {
     "name": "stdout",
     "output_type": "stream",
     "text": [
      "⚡ Computing optimal portfolios...\n",
      "✅ Optimal portfolios computed successfully\n",
      "\n",
      "🏆 Optimal Portfolio Allocations:\n",
      "==================================================\n"
     ]
    },
    {
     "data": {
      "text/html": [
       "<div>\n",
       "<style scoped>\n",
       "    .dataframe tbody tr th:only-of-type {\n",
       "        vertical-align: middle;\n",
       "    }\n",
       "\n",
       "    .dataframe tbody tr th {\n",
       "        vertical-align: top;\n",
       "    }\n",
       "\n",
       "    .dataframe thead th {\n",
       "        text-align: right;\n",
       "    }\n",
       "</style>\n",
       "<table border=\"1\" class=\"dataframe\">\n",
       "  <thead>\n",
       "    <tr style=\"text-align: right;\">\n",
       "      <th></th>\n",
       "      <th>Asset</th>\n",
       "      <th>Max Sharpe %</th>\n",
       "      <th>Min Variance %</th>\n",
       "    </tr>\n",
       "  </thead>\n",
       "  <tbody>\n",
       "    <tr>\n",
       "      <th>0</th>\n",
       "      <td>VOO</td>\n",
       "      <td>0.00</td>\n",
       "      <td>91.67</td>\n",
       "    </tr>\n",
       "    <tr>\n",
       "      <th>1</th>\n",
       "      <td>VEA</td>\n",
       "      <td>17.00</td>\n",
       "      <td>0.10</td>\n",
       "    </tr>\n",
       "    <tr>\n",
       "      <th>2</th>\n",
       "      <td>VWO</td>\n",
       "      <td>61.33</td>\n",
       "      <td>0.34</td>\n",
       "    </tr>\n",
       "    <tr>\n",
       "      <th>3</th>\n",
       "      <td>VB</td>\n",
       "      <td>0.00</td>\n",
       "      <td>0.00</td>\n",
       "    </tr>\n",
       "    <tr>\n",
       "      <th>4</th>\n",
       "      <td>BND</td>\n",
       "      <td>0.00</td>\n",
       "      <td>0.00</td>\n",
       "    </tr>\n",
       "    <tr>\n",
       "      <th>5</th>\n",
       "      <td>IEF</td>\n",
       "      <td>0.00</td>\n",
       "      <td>0.00</td>\n",
       "    </tr>\n",
       "    <tr>\n",
       "      <th>6</th>\n",
       "      <td>GLD</td>\n",
       "      <td>21.67</td>\n",
       "      <td>4.43</td>\n",
       "    </tr>\n",
       "    <tr>\n",
       "      <th>7</th>\n",
       "      <td>BTC-USD</td>\n",
       "      <td>0.00</td>\n",
       "      <td>3.47</td>\n",
       "    </tr>\n",
       "  </tbody>\n",
       "</table>\n",
       "</div>"
      ],
      "text/plain": [
       "     Asset  Max Sharpe %  Min Variance %\n",
       "0      VOO          0.00           91.67\n",
       "1      VEA         17.00            0.10\n",
       "2      VWO         61.33            0.34\n",
       "3       VB          0.00            0.00\n",
       "4      BND          0.00            0.00\n",
       "5      IEF          0.00            0.00\n",
       "6      GLD         21.67            4.43\n",
       "7  BTC-USD          0.00            3.47"
      ]
     },
     "metadata": {},
     "output_type": "display_data"
    },
    {
     "name": "stdout",
     "output_type": "stream",
     "text": [
      "\n",
      "📊 Maximum Sharpe Portfolio:\n",
      "   Return: 20.02% | Volatility: 12.39% | Sharpe: 1.617\n",
      "\n",
      "📊 Minimum Variance Portfolio:\n",
      "   Return: 2.73% | Volatility: 5.27% | Sharpe: 0.517\n"
     ]
    }
   ],
   "source": [
    "# Find optimal portfolios\n",
    "print(\"⚡ Computing optimal portfolios...\")\n",
    "\n",
    "# 1. Maximum Sharpe Ratio Portfolio\n",
    "initial_guess = np.array([1/num_assets] * num_assets)\n",
    "max_sharpe_result = minimize(\n",
    "    negative_sharpe, \n",
    "    initial_guess,\n",
    "    method='SLSQP',\n",
    "    bounds=bounds,\n",
    "    constraints=constraints,\n",
    "    args=(returns,)\n",
    ")\n",
    "\n",
    "max_sharpe_weights = max_sharpe_result.x\n",
    "max_sharpe_return, max_sharpe_vol, max_sharpe_ratio = portfolio_stats(max_sharpe_weights, returns)\n",
    "\n",
    "# 2. Minimum Variance Portfolio\n",
    "min_var_result = minimize(\n",
    "    portfolio_volatility,\n",
    "    initial_guess,\n",
    "    method='SLSQP',\n",
    "    bounds=bounds,\n",
    "    constraints=constraints,\n",
    "    args=(returns,)\n",
    ")\n",
    "\n",
    "min_var_weights = min_var_result.x\n",
    "min_var_return, min_var_vol, min_var_sharpe = portfolio_stats(min_var_weights, returns)\n",
    "\n",
    "print(\"✅ Optimal portfolios computed successfully\")\n",
    "\n",
    "# Display results\n",
    "optimal_portfolios = pd.DataFrame({\n",
    "    'Asset': tickers,\n",
    "    'Max Sharpe Weights': max_sharpe_weights,\n",
    "    'Min Variance Weights': min_var_weights\n",
    "})\n",
    "\n",
    "optimal_portfolios['Max Sharpe %'] = (optimal_portfolios['Max Sharpe Weights'] * 100).round(2)\n",
    "optimal_portfolios['Min Variance %'] = (optimal_portfolios['Min Variance Weights'] * 100).round(2)\n",
    "\n",
    "print(\"\\n🏆 Optimal Portfolio Allocations:\")\n",
    "print(\"=\" * 50)\n",
    "display(optimal_portfolios[['Asset', 'Max Sharpe %', 'Min Variance %']])\n",
    "\n",
    "print(f\"\\n📊 Maximum Sharpe Portfolio:\")\n",
    "print(f\"   Return: {max_sharpe_return*100:.2f}% | Volatility: {max_sharpe_vol*100:.2f}% | Sharpe: {max_sharpe_ratio:.3f}\")\n",
    "\n",
    "print(f\"\\n📊 Minimum Variance Portfolio:\")\n",
    "print(f\"   Return: {min_var_return*100:.2f}% | Volatility: {min_var_vol*100:.2f}% | Sharpe: {min_var_sharpe:.3f}\")"
   ]
  },
  {
   "cell_type": "code",
   "execution_count": 36,
   "metadata": {},
   "outputs": [
    {
     "name": "stdout",
     "output_type": "stream",
     "text": [
      "🎨 Generating efficient frontier...\n",
      "✅ Generated 50 efficient frontier points\n"
     ]
    }
   ],
   "source": [
    "# Generate efficient frontier\n",
    "print(\"🎨 Generating efficient frontier...\")\n",
    "\n",
    "# Create target return range\n",
    "target_returns = np.linspace(min_var_return, max(annual_returns), 50)\n",
    "efficient_portfolios = []\n",
    "\n",
    "for target_return in target_returns:\n",
    "    # Add return target constraint\n",
    "    return_constraint = {'type': 'eq', 'fun': lambda x: portfolio_return(x, returns) - target_return}\n",
    "    constraints_with_return = [constraints, return_constraint]\n",
    "    \n",
    "    # Optimize for minimum variance given target return\n",
    "    result = minimize(\n",
    "        portfolio_volatility,\n",
    "        initial_guess,\n",
    "        method='SLSQP',\n",
    "        bounds=bounds,\n",
    "        constraints=constraints_with_return,\n",
    "        args=(returns,)\n",
    "    )\n",
    "    \n",
    "    if result.success:\n",
    "        ret, vol, sharpe = portfolio_stats(result.x, returns)\n",
    "        efficient_portfolios.append({\n",
    "            'return': ret,\n",
    "            'volatility': vol,\n",
    "            'sharpe': sharpe,\n",
    "            'weights': result.x\n",
    "        })\n",
    "\n",
    "# Convert to DataFrame\n",
    "efficient_df = pd.DataFrame(efficient_portfolios)\n",
    "print(f\"✅ Generated {len(efficient_df)} efficient frontier points\")"
   ]
  },
  {
   "cell_type": "code",
   "execution_count": 37,
   "metadata": {},
   "outputs": [
    {
     "data": {
      "application/vnd.plotly.v1+json": {
       "config": {
        "plotlyServerURL": "https://plot.ly"
       },
       "data": [
        {
         "line": {
          "color": "blue",
          "width": 3
         },
         "mode": "lines",
         "name": "Efficient Frontier",
         "type": "scatter",
         "x": {
          "bdata": "Nn4R2EsZFUDhpRR1ZjcVQOIe3DtVkhVA1BceJBEoFkDRyL/L5fYWQArDN1c++RdAechKPekoGUBcA4T6z38aQLU0y8tX+BtAUuWSXGyNHUC+UOMzzDofQIjOPTROfiBAqavjnvVnIUAP2+S+CFkiQA5vIzpyUCNAmoAwm0tNJEBeaGXXyE4lQGKNlPFSVCZAnTdcn2JdJ0DWk6bTAGooQAXfm5nOiSlAN4eKl9jBKkDNOvzV+A4sQEgC5Bhebi1AHMoRNpLdLkB6NTPsQy0wQMtCbF/48TBAkqWZZXvAMUArO+pXDZkyQNKaTsBeejNAlzg6nk1jNEB2QMlp4FI1QIWoSvdASDZAN/ulnbdCN0Dqu7XPpkE4QHV0HTyHRDlAIqL8cORKOkAWtOz+WVQ7QMUT5QmRYDxATpB8PD5vPUCxwlEOIIA+QCHB/0/9kj9A4rME+tFTQECFyhwE9N5AQFZscWvRakFAa/7vGVn3QUCQdxPqe4RCQJ8Us2csEkNAoVBgll6gQ0AcAA3BBy9EQA==",
          "dtype": "f8"
         },
         "y": {
          "bdata": "dAnrLg/QBUCBl0QYpvgMQLsRy4CeEBJA67lx9emkFUCLORhqNTkZQG9RxN6AzRxAEQG3KeYwIEDGmgrkC/shQHs6XZ4xxSNATpqsWFePJUDfrAQTfVknQGicVc2iIylADzOsh8jtKkBC2f9B7rcsQHREUfwTgi5AwZBN2xwmMEDfqny4LwsxQBIFqZVC8DFAXIrRclXVMkCyFfpPaLozQOH4JS17nzRAMm5OCo6ENUATtmznoGk2QNPtqsSzTjdAjhLbocYzOECVZfF+2Rg5QJizFVzs/TlAb1NDOf/iOkAjb24WEsg7QLdLm/MkrTxAiC/C0DeSPUC70+6tSnc+QIM0GotdXD9AVvMkNLggQEAfwaqiQZNAQENcShHLBUFAUzfgf1R4QUBi4nru3epBQOMjDV1nXUJAwuGVy/DPQkCg+jI6ekJDQNTOyKgDtUNAmOlcF40nREAbv/KFFppEQPJjyPOfDEVAQqtYYil/RUCT8ujQsvFFQOQ5eT88ZEZANYEJrsXWRkCIyJkcT0lHQA==",
          "dtype": "f8"
         }
        },
        {
         "marker": {
          "color": "gray",
          "size": 12,
          "symbol": "circle"
         },
         "mode": "markers+text",
         "name": "Individual Assets",
         "text": [
          "BND",
          "BTC-USD",
          "GLD",
          "IEF",
          "VB",
          "VEA",
          "VOO",
          "VWO"
         ],
         "textposition": "top center",
         "type": "scatter",
         "x": {
          "bdata": "OnJaCit4FUB+UxnCBy9EQHBhexFcsylAGQdHtkEeG0BBJpEgZSsxQMSjfdTZoipAFxDwAsXXK0AzVONhflorQA==",
          "dtype": "f8"
         },
         "y": {
          "bdata": "7Coe0LiJ/z9w4XAdT0lHQANSSYCb8i5AOZs7vXwR7T/uABp/FAsfQOQsZY6J5CVASet4jdIfKECx26/6/5kgQA==",
          "dtype": "f8"
         }
        },
        {
         "marker": {
          "color": "red",
          "size": 15,
          "symbol": "star"
         },
         "mode": "markers",
         "name": "Max Sharpe (Sharpe: 1.617)",
         "type": "scatter",
         "x": [
          12.386513567574466
         ],
         "y": [
          20.022838526640808
         ]
        },
        {
         "marker": {
          "color": "green",
          "size": 15,
          "symbol": "diamond"
         },
         "mode": "markers",
         "name": "Min Variance (Vol: 5.27%)",
         "type": "scatter",
         "x": [
          5.27469706597707
         ],
         "y": [
          2.7265914602221217
         ]
        },
        {
         "marker": {
          "color": "orange",
          "size": 15,
          "symbol": "square"
         },
         "mode": "markers",
         "name": "Current Portfolio (Sharpe: 1.241)",
         "type": "scatter",
         "x": [
          8.73014951217162
         ],
         "y": [
          10.831869676465558
         ]
        }
       ],
       "layout": {
        "height": 600,
        "legend": {
         "x": 0.02,
         "y": 0.98
        },
        "template": {
         "data": {
          "bar": [
           {
            "error_x": {
             "color": "#2a3f5f"
            },
            "error_y": {
             "color": "#2a3f5f"
            },
            "marker": {
             "line": {
              "color": "white",
              "width": 0.5
             },
             "pattern": {
              "fillmode": "overlay",
              "size": 10,
              "solidity": 0.2
             }
            },
            "type": "bar"
           }
          ],
          "barpolar": [
           {
            "marker": {
             "line": {
              "color": "white",
              "width": 0.5
             },
             "pattern": {
              "fillmode": "overlay",
              "size": 10,
              "solidity": 0.2
             }
            },
            "type": "barpolar"
           }
          ],
          "carpet": [
           {
            "aaxis": {
             "endlinecolor": "#2a3f5f",
             "gridcolor": "#C8D4E3",
             "linecolor": "#C8D4E3",
             "minorgridcolor": "#C8D4E3",
             "startlinecolor": "#2a3f5f"
            },
            "baxis": {
             "endlinecolor": "#2a3f5f",
             "gridcolor": "#C8D4E3",
             "linecolor": "#C8D4E3",
             "minorgridcolor": "#C8D4E3",
             "startlinecolor": "#2a3f5f"
            },
            "type": "carpet"
           }
          ],
          "choropleth": [
           {
            "colorbar": {
             "outlinewidth": 0,
             "ticks": ""
            },
            "type": "choropleth"
           }
          ],
          "contour": [
           {
            "colorbar": {
             "outlinewidth": 0,
             "ticks": ""
            },
            "colorscale": [
             [
              0,
              "#0d0887"
             ],
             [
              0.1111111111111111,
              "#46039f"
             ],
             [
              0.2222222222222222,
              "#7201a8"
             ],
             [
              0.3333333333333333,
              "#9c179e"
             ],
             [
              0.4444444444444444,
              "#bd3786"
             ],
             [
              0.5555555555555556,
              "#d8576b"
             ],
             [
              0.6666666666666666,
              "#ed7953"
             ],
             [
              0.7777777777777778,
              "#fb9f3a"
             ],
             [
              0.8888888888888888,
              "#fdca26"
             ],
             [
              1,
              "#f0f921"
             ]
            ],
            "type": "contour"
           }
          ],
          "contourcarpet": [
           {
            "colorbar": {
             "outlinewidth": 0,
             "ticks": ""
            },
            "type": "contourcarpet"
           }
          ],
          "heatmap": [
           {
            "colorbar": {
             "outlinewidth": 0,
             "ticks": ""
            },
            "colorscale": [
             [
              0,
              "#0d0887"
             ],
             [
              0.1111111111111111,
              "#46039f"
             ],
             [
              0.2222222222222222,
              "#7201a8"
             ],
             [
              0.3333333333333333,
              "#9c179e"
             ],
             [
              0.4444444444444444,
              "#bd3786"
             ],
             [
              0.5555555555555556,
              "#d8576b"
             ],
             [
              0.6666666666666666,
              "#ed7953"
             ],
             [
              0.7777777777777778,
              "#fb9f3a"
             ],
             [
              0.8888888888888888,
              "#fdca26"
             ],
             [
              1,
              "#f0f921"
             ]
            ],
            "type": "heatmap"
           }
          ],
          "histogram": [
           {
            "marker": {
             "pattern": {
              "fillmode": "overlay",
              "size": 10,
              "solidity": 0.2
             }
            },
            "type": "histogram"
           }
          ],
          "histogram2d": [
           {
            "colorbar": {
             "outlinewidth": 0,
             "ticks": ""
            },
            "colorscale": [
             [
              0,
              "#0d0887"
             ],
             [
              0.1111111111111111,
              "#46039f"
             ],
             [
              0.2222222222222222,
              "#7201a8"
             ],
             [
              0.3333333333333333,
              "#9c179e"
             ],
             [
              0.4444444444444444,
              "#bd3786"
             ],
             [
              0.5555555555555556,
              "#d8576b"
             ],
             [
              0.6666666666666666,
              "#ed7953"
             ],
             [
              0.7777777777777778,
              "#fb9f3a"
             ],
             [
              0.8888888888888888,
              "#fdca26"
             ],
             [
              1,
              "#f0f921"
             ]
            ],
            "type": "histogram2d"
           }
          ],
          "histogram2dcontour": [
           {
            "colorbar": {
             "outlinewidth": 0,
             "ticks": ""
            },
            "colorscale": [
             [
              0,
              "#0d0887"
             ],
             [
              0.1111111111111111,
              "#46039f"
             ],
             [
              0.2222222222222222,
              "#7201a8"
             ],
             [
              0.3333333333333333,
              "#9c179e"
             ],
             [
              0.4444444444444444,
              "#bd3786"
             ],
             [
              0.5555555555555556,
              "#d8576b"
             ],
             [
              0.6666666666666666,
              "#ed7953"
             ],
             [
              0.7777777777777778,
              "#fb9f3a"
             ],
             [
              0.8888888888888888,
              "#fdca26"
             ],
             [
              1,
              "#f0f921"
             ]
            ],
            "type": "histogram2dcontour"
           }
          ],
          "mesh3d": [
           {
            "colorbar": {
             "outlinewidth": 0,
             "ticks": ""
            },
            "type": "mesh3d"
           }
          ],
          "parcoords": [
           {
            "line": {
             "colorbar": {
              "outlinewidth": 0,
              "ticks": ""
             }
            },
            "type": "parcoords"
           }
          ],
          "pie": [
           {
            "automargin": true,
            "type": "pie"
           }
          ],
          "scatter": [
           {
            "fillpattern": {
             "fillmode": "overlay",
             "size": 10,
             "solidity": 0.2
            },
            "type": "scatter"
           }
          ],
          "scatter3d": [
           {
            "line": {
             "colorbar": {
              "outlinewidth": 0,
              "ticks": ""
             }
            },
            "marker": {
             "colorbar": {
              "outlinewidth": 0,
              "ticks": ""
             }
            },
            "type": "scatter3d"
           }
          ],
          "scattercarpet": [
           {
            "marker": {
             "colorbar": {
              "outlinewidth": 0,
              "ticks": ""
             }
            },
            "type": "scattercarpet"
           }
          ],
          "scattergeo": [
           {
            "marker": {
             "colorbar": {
              "outlinewidth": 0,
              "ticks": ""
             }
            },
            "type": "scattergeo"
           }
          ],
          "scattergl": [
           {
            "marker": {
             "colorbar": {
              "outlinewidth": 0,
              "ticks": ""
             }
            },
            "type": "scattergl"
           }
          ],
          "scattermap": [
           {
            "marker": {
             "colorbar": {
              "outlinewidth": 0,
              "ticks": ""
             }
            },
            "type": "scattermap"
           }
          ],
          "scattermapbox": [
           {
            "marker": {
             "colorbar": {
              "outlinewidth": 0,
              "ticks": ""
             }
            },
            "type": "scattermapbox"
           }
          ],
          "scatterpolar": [
           {
            "marker": {
             "colorbar": {
              "outlinewidth": 0,
              "ticks": ""
             }
            },
            "type": "scatterpolar"
           }
          ],
          "scatterpolargl": [
           {
            "marker": {
             "colorbar": {
              "outlinewidth": 0,
              "ticks": ""
             }
            },
            "type": "scatterpolargl"
           }
          ],
          "scatterternary": [
           {
            "marker": {
             "colorbar": {
              "outlinewidth": 0,
              "ticks": ""
             }
            },
            "type": "scatterternary"
           }
          ],
          "surface": [
           {
            "colorbar": {
             "outlinewidth": 0,
             "ticks": ""
            },
            "colorscale": [
             [
              0,
              "#0d0887"
             ],
             [
              0.1111111111111111,
              "#46039f"
             ],
             [
              0.2222222222222222,
              "#7201a8"
             ],
             [
              0.3333333333333333,
              "#9c179e"
             ],
             [
              0.4444444444444444,
              "#bd3786"
             ],
             [
              0.5555555555555556,
              "#d8576b"
             ],
             [
              0.6666666666666666,
              "#ed7953"
             ],
             [
              0.7777777777777778,
              "#fb9f3a"
             ],
             [
              0.8888888888888888,
              "#fdca26"
             ],
             [
              1,
              "#f0f921"
             ]
            ],
            "type": "surface"
           }
          ],
          "table": [
           {
            "cells": {
             "fill": {
              "color": "#EBF0F8"
             },
             "line": {
              "color": "white"
             }
            },
            "header": {
             "fill": {
              "color": "#C8D4E3"
             },
             "line": {
              "color": "white"
             }
            },
            "type": "table"
           }
          ]
         },
         "layout": {
          "annotationdefaults": {
           "arrowcolor": "#2a3f5f",
           "arrowhead": 0,
           "arrowwidth": 1
          },
          "autotypenumbers": "strict",
          "coloraxis": {
           "colorbar": {
            "outlinewidth": 0,
            "ticks": ""
           }
          },
          "colorscale": {
           "diverging": [
            [
             0,
             "#8e0152"
            ],
            [
             0.1,
             "#c51b7d"
            ],
            [
             0.2,
             "#de77ae"
            ],
            [
             0.3,
             "#f1b6da"
            ],
            [
             0.4,
             "#fde0ef"
            ],
            [
             0.5,
             "#f7f7f7"
            ],
            [
             0.6,
             "#e6f5d0"
            ],
            [
             0.7,
             "#b8e186"
            ],
            [
             0.8,
             "#7fbc41"
            ],
            [
             0.9,
             "#4d9221"
            ],
            [
             1,
             "#276419"
            ]
           ],
           "sequential": [
            [
             0,
             "#0d0887"
            ],
            [
             0.1111111111111111,
             "#46039f"
            ],
            [
             0.2222222222222222,
             "#7201a8"
            ],
            [
             0.3333333333333333,
             "#9c179e"
            ],
            [
             0.4444444444444444,
             "#bd3786"
            ],
            [
             0.5555555555555556,
             "#d8576b"
            ],
            [
             0.6666666666666666,
             "#ed7953"
            ],
            [
             0.7777777777777778,
             "#fb9f3a"
            ],
            [
             0.8888888888888888,
             "#fdca26"
            ],
            [
             1,
             "#f0f921"
            ]
           ],
           "sequentialminus": [
            [
             0,
             "#0d0887"
            ],
            [
             0.1111111111111111,
             "#46039f"
            ],
            [
             0.2222222222222222,
             "#7201a8"
            ],
            [
             0.3333333333333333,
             "#9c179e"
            ],
            [
             0.4444444444444444,
             "#bd3786"
            ],
            [
             0.5555555555555556,
             "#d8576b"
            ],
            [
             0.6666666666666666,
             "#ed7953"
            ],
            [
             0.7777777777777778,
             "#fb9f3a"
            ],
            [
             0.8888888888888888,
             "#fdca26"
            ],
            [
             1,
             "#f0f921"
            ]
           ]
          },
          "colorway": [
           "#636efa",
           "#EF553B",
           "#00cc96",
           "#ab63fa",
           "#FFA15A",
           "#19d3f3",
           "#FF6692",
           "#B6E880",
           "#FF97FF",
           "#FECB52"
          ],
          "font": {
           "color": "#2a3f5f"
          },
          "geo": {
           "bgcolor": "white",
           "lakecolor": "white",
           "landcolor": "white",
           "showlakes": true,
           "showland": true,
           "subunitcolor": "#C8D4E3"
          },
          "hoverlabel": {
           "align": "left"
          },
          "hovermode": "closest",
          "mapbox": {
           "style": "light"
          },
          "paper_bgcolor": "white",
          "plot_bgcolor": "white",
          "polar": {
           "angularaxis": {
            "gridcolor": "#EBF0F8",
            "linecolor": "#EBF0F8",
            "ticks": ""
           },
           "bgcolor": "white",
           "radialaxis": {
            "gridcolor": "#EBF0F8",
            "linecolor": "#EBF0F8",
            "ticks": ""
           }
          },
          "scene": {
           "xaxis": {
            "backgroundcolor": "white",
            "gridcolor": "#DFE8F3",
            "gridwidth": 2,
            "linecolor": "#EBF0F8",
            "showbackground": true,
            "ticks": "",
            "zerolinecolor": "#EBF0F8"
           },
           "yaxis": {
            "backgroundcolor": "white",
            "gridcolor": "#DFE8F3",
            "gridwidth": 2,
            "linecolor": "#EBF0F8",
            "showbackground": true,
            "ticks": "",
            "zerolinecolor": "#EBF0F8"
           },
           "zaxis": {
            "backgroundcolor": "white",
            "gridcolor": "#DFE8F3",
            "gridwidth": 2,
            "linecolor": "#EBF0F8",
            "showbackground": true,
            "ticks": "",
            "zerolinecolor": "#EBF0F8"
           }
          },
          "shapedefaults": {
           "line": {
            "color": "#2a3f5f"
           }
          },
          "ternary": {
           "aaxis": {
            "gridcolor": "#DFE8F3",
            "linecolor": "#A2B1C6",
            "ticks": ""
           },
           "baxis": {
            "gridcolor": "#DFE8F3",
            "linecolor": "#A2B1C6",
            "ticks": ""
           },
           "bgcolor": "white",
           "caxis": {
            "gridcolor": "#DFE8F3",
            "linecolor": "#A2B1C6",
            "ticks": ""
           }
          },
          "title": {
           "x": 0.05
          },
          "xaxis": {
           "automargin": true,
           "gridcolor": "#EBF0F8",
           "linecolor": "#EBF0F8",
           "ticks": "",
           "title": {
            "standoff": 15
           },
           "zerolinecolor": "#EBF0F8",
           "zerolinewidth": 2
          },
          "yaxis": {
           "automargin": true,
           "gridcolor": "#EBF0F8",
           "linecolor": "#EBF0F8",
           "ticks": "",
           "title": {
            "standoff": 15
           },
           "zerolinecolor": "#EBF0F8",
           "zerolinewidth": 2
          }
         }
        },
        "title": {
         "text": "🎯 Markowitz Efficient Frontier Analysis"
        },
        "width": 900,
        "xaxis": {
         "title": {
          "text": "Annual Volatility (%)"
         }
        },
        "yaxis": {
         "title": {
          "text": "Annual Return (%)"
         }
        }
       }
      }
     },
     "metadata": {},
     "output_type": "display_data"
    },
    {
     "name": "stdout",
     "output_type": "stream",
     "text": [
      "\n",
      "📈 Current Portfolio Performance:\n",
      "   Return: 10.83% | Volatility: 8.73% | Sharpe: 1.241\n"
     ]
    }
   ],
   "source": [
    "# Create comprehensive efficient frontier visualization\n",
    "fig = go.Figure()\n",
    "\n",
    "# Efficient frontier\n",
    "fig.add_trace(go.Scatter(\n",
    "    x=efficient_df['volatility'] * 100,\n",
    "    y=efficient_df['return'] * 100,\n",
    "    mode='lines',\n",
    "    name='Efficient Frontier',\n",
    "    line=dict(color='blue', width=3)\n",
    "))\n",
    "\n",
    "# Individual assets\n",
    "fig.add_trace(go.Scatter(\n",
    "    x=annual_volatility * 100,\n",
    "    y=annual_returns * 100,\n",
    "    mode='markers+text',\n",
    "    text=annual_returns.index,\n",
    "    textposition='top center',\n",
    "    marker=dict(size=12, color='gray', symbol='circle'),\n",
    "    name='Individual Assets'\n",
    "))\n",
    "\n",
    "# Maximum Sharpe portfolio\n",
    "fig.add_trace(go.Scatter(\n",
    "    x=[max_sharpe_vol * 100],\n",
    "    y=[max_sharpe_return * 100],\n",
    "    mode='markers',\n",
    "    marker=dict(size=15, color='red', symbol='star'),\n",
    "    name=f'Max Sharpe (Sharpe: {max_sharpe_ratio:.3f})'\n",
    "))\n",
    "\n",
    "# Minimum variance portfolio\n",
    "fig.add_trace(go.Scatter(\n",
    "    x=[min_var_vol * 100],\n",
    "    y=[min_var_return * 100],\n",
    "    mode='markers',\n",
    "    marker=dict(size=15, color='green', symbol='diamond'),\n",
    "    name=f'Min Variance (Vol: {min_var_vol*100:.2f}%)'\n",
    "))\n",
    "\n",
    "# Current portfolio (calculate current weights excluding cash)\n",
    "current_weights = portfolio_df[portfolio_df['ticker'] != 'CASH']['weight_numeric'].values / 100\n",
    "current_weights = current_weights / current_weights.sum()  # Normalize to exclude cash\n",
    "current_return, current_vol, current_sharpe = portfolio_stats(current_weights, returns)\n",
    "\n",
    "fig.add_trace(go.Scatter(\n",
    "    x=[current_vol * 100],\n",
    "    y=[current_return * 100],\n",
    "    mode='markers',\n",
    "    marker=dict(size=15, color='orange', symbol='square'),\n",
    "    name=f'Current Portfolio (Sharpe: {current_sharpe:.3f})'\n",
    "))\n",
    "\n",
    "fig.update_layout(\n",
    "    title='🎯 Markowitz Efficient Frontier Analysis',\n",
    "    xaxis_title='Annual Volatility (%)',\n",
    "    yaxis_title='Annual Return (%)',\n",
    "    width=900,\n",
    "    height=600,\n",
    "    legend=dict(x=0.02, y=0.98)\n",
    ")\n",
    "\n",
    "fig.show()\n",
    "\n",
    "print(f\"\\n📈 Current Portfolio Performance:\")\n",
    "print(f\"   Return: {current_return*100:.2f}% | Volatility: {current_vol*100:.2f}% | Sharpe: {current_sharpe:.3f}\")"
   ]
  },
  {
   "cell_type": "markdown",
   "metadata": {},
   "source": [
    "## 5. Risk Tolerance Analysis and Portfolio Recommendations"
   ]
  },
  {
   "cell_type": "code",
   "execution_count": 38,
   "metadata": {},
   "outputs": [
    {
     "name": "stdout",
     "output_type": "stream",
     "text": [
      "📊 Portfolio Comparison Analysis:\n",
      "================================================================================\n"
     ]
    },
    {
     "data": {
      "text/html": [
       "<div>\n",
       "<style scoped>\n",
       "    .dataframe tbody tr th:only-of-type {\n",
       "        vertical-align: middle;\n",
       "    }\n",
       "\n",
       "    .dataframe tbody tr th {\n",
       "        vertical-align: top;\n",
       "    }\n",
       "\n",
       "    .dataframe thead th {\n",
       "        text-align: right;\n",
       "    }\n",
       "</style>\n",
       "<table border=\"1\" class=\"dataframe\">\n",
       "  <thead>\n",
       "    <tr style=\"text-align: right;\">\n",
       "      <th></th>\n",
       "      <th>Portfolio</th>\n",
       "      <th>Return (%)</th>\n",
       "      <th>Volatility (%)</th>\n",
       "      <th>Sharpe Ratio</th>\n",
       "      <th>VOO (%)</th>\n",
       "      <th>VEA (%)</th>\n",
       "      <th>VWO (%)</th>\n",
       "      <th>VB (%)</th>\n",
       "      <th>BND (%)</th>\n",
       "      <th>IEF (%)</th>\n",
       "      <th>GLD (%)</th>\n",
       "      <th>BTC-USD (%)</th>\n",
       "    </tr>\n",
       "  </thead>\n",
       "  <tbody>\n",
       "    <tr>\n",
       "      <th>0</th>\n",
       "      <td>Current</td>\n",
       "      <td>10.83</td>\n",
       "      <td>8.73</td>\n",
       "      <td>1.241</td>\n",
       "      <td>36.6</td>\n",
       "      <td>14.0</td>\n",
       "      <td>9.6</td>\n",
       "      <td>18.1</td>\n",
       "      <td>7.7</td>\n",
       "      <td>3.4</td>\n",
       "      <td>2.3</td>\n",
       "      <td>8.2</td>\n",
       "    </tr>\n",
       "    <tr>\n",
       "      <th>1</th>\n",
       "      <td>Max Sharpe</td>\n",
       "      <td>20.02</td>\n",
       "      <td>12.39</td>\n",
       "      <td>1.617</td>\n",
       "      <td>0.0</td>\n",
       "      <td>17.0</td>\n",
       "      <td>61.3</td>\n",
       "      <td>0.0</td>\n",
       "      <td>0.0</td>\n",
       "      <td>0.0</td>\n",
       "      <td>21.7</td>\n",
       "      <td>0.0</td>\n",
       "    </tr>\n",
       "    <tr>\n",
       "      <th>2</th>\n",
       "      <td>Min Variance</td>\n",
       "      <td>2.73</td>\n",
       "      <td>5.27</td>\n",
       "      <td>0.517</td>\n",
       "      <td>91.7</td>\n",
       "      <td>0.1</td>\n",
       "      <td>0.3</td>\n",
       "      <td>0.0</td>\n",
       "      <td>0.0</td>\n",
       "      <td>0.0</td>\n",
       "      <td>4.4</td>\n",
       "      <td>3.5</td>\n",
       "    </tr>\n",
       "    <tr>\n",
       "      <th>3</th>\n",
       "      <td>Conservative</td>\n",
       "      <td>11.67</td>\n",
       "      <td>7.81</td>\n",
       "      <td>1.495</td>\n",
       "      <td>43.6</td>\n",
       "      <td>8.4</td>\n",
       "      <td>32.6</td>\n",
       "      <td>0.0</td>\n",
       "      <td>0.0</td>\n",
       "      <td>0.0</td>\n",
       "      <td>15.4</td>\n",
       "      <td>0.0</td>\n",
       "    </tr>\n",
       "    <tr>\n",
       "      <th>4</th>\n",
       "      <td>Moderate</td>\n",
       "      <td>19.73</td>\n",
       "      <td>12.21</td>\n",
       "      <td>1.616</td>\n",
       "      <td>0.0</td>\n",
       "      <td>16.2</td>\n",
       "      <td>60.9</td>\n",
       "      <td>0.0</td>\n",
       "      <td>0.0</td>\n",
       "      <td>0.0</td>\n",
       "      <td>22.9</td>\n",
       "      <td>0.0</td>\n",
       "    </tr>\n",
       "    <tr>\n",
       "      <th>5</th>\n",
       "      <td>Aggressive</td>\n",
       "      <td>25.10</td>\n",
       "      <td>16.18</td>\n",
       "      <td>1.551</td>\n",
       "      <td>0.0</td>\n",
       "      <td>31.2</td>\n",
       "      <td>66.4</td>\n",
       "      <td>0.0</td>\n",
       "      <td>0.0</td>\n",
       "      <td>0.0</td>\n",
       "      <td>2.4</td>\n",
       "      <td>0.0</td>\n",
       "    </tr>\n",
       "  </tbody>\n",
       "</table>\n",
       "</div>"
      ],
      "text/plain": [
       "      Portfolio Return (%) Volatility (%) Sharpe Ratio VOO (%) VEA (%)  \\\n",
       "0       Current      10.83           8.73        1.241    36.6    14.0   \n",
       "1    Max Sharpe      20.02          12.39        1.617     0.0    17.0   \n",
       "2  Min Variance       2.73           5.27        0.517    91.7     0.1   \n",
       "3  Conservative      11.67           7.81        1.495    43.6     8.4   \n",
       "4      Moderate      19.73          12.21        1.616     0.0    16.2   \n",
       "5    Aggressive      25.10          16.18        1.551     0.0    31.2   \n",
       "\n",
       "  VWO (%) VB (%) BND (%) IEF (%) GLD (%) BTC-USD (%)  \n",
       "0     9.6   18.1     7.7     3.4     2.3         8.2  \n",
       "1    61.3    0.0     0.0     0.0    21.7         0.0  \n",
       "2     0.3    0.0     0.0     0.0     4.4         3.5  \n",
       "3    32.6    0.0     0.0     0.0    15.4         0.0  \n",
       "4    60.9    0.0     0.0     0.0    22.9         0.0  \n",
       "5    66.4    0.0     0.0     0.0     2.4         0.0  "
      ]
     },
     "metadata": {},
     "output_type": "display_data"
    }
   ],
   "source": [
    "# Generate portfolios for different risk tolerance levels\n",
    "risk_levels = {\n",
    "    'Conservative': 0.08,    # 8% target volatility\n",
    "    'Moderate': 0.12,        # 12% target volatility\n",
    "    'Aggressive': 0.16       # 16% target volatility\n",
    "}\n",
    "\n",
    "risk_portfolios = {}\n",
    "\n",
    "for risk_label, target_vol in risk_levels.items():\n",
    "    # Find portfolio on efficient frontier closest to target volatility\n",
    "    vol_diff = abs(efficient_df['volatility'] - target_vol)\n",
    "    closest_idx = vol_diff.idxmin()\n",
    "    \n",
    "    risk_portfolios[risk_label] = {\n",
    "        'weights': efficient_df.iloc[closest_idx]['weights'],\n",
    "        'return': efficient_df.iloc[closest_idx]['return'],\n",
    "        'volatility': efficient_df.iloc[closest_idx]['volatility'],\n",
    "        'sharpe': efficient_df.iloc[closest_idx]['sharpe']\n",
    "    }\n",
    "\n",
    "# Create comprehensive comparison\n",
    "comparison_data = []\n",
    "portfolios = {\n",
    "    'Current': {'weights': current_weights, 'return': current_return, 'volatility': current_vol, 'sharpe': current_sharpe},\n",
    "    'Max Sharpe': {'weights': max_sharpe_weights, 'return': max_sharpe_return, 'volatility': max_sharpe_vol, 'sharpe': max_sharpe_ratio},\n",
    "    'Min Variance': {'weights': min_var_weights, 'return': min_var_return, 'volatility': min_var_vol, 'sharpe': min_var_sharpe},\n",
    "    **risk_portfolios\n",
    "}\n",
    "\n",
    "for name, data in portfolios.items():\n",
    "    portfolio_info = {\n",
    "        'Portfolio': name,\n",
    "        'Return (%)': f\"{data['return']*100:.2f}\",\n",
    "        'Volatility (%)': f\"{data['volatility']*100:.2f}\",\n",
    "        'Sharpe Ratio': f\"{data['sharpe']:.3f}\"\n",
    "    }\n",
    "    \n",
    "    # Add weights for each asset\n",
    "    for i, ticker in enumerate(tickers):\n",
    "        portfolio_info[f'{ticker} (%)'] = f\"{data['weights'][i]*100:.1f}\"\n",
    "    \n",
    "    comparison_data.append(portfolio_info)\n",
    "\n",
    "comparison_df = pd.DataFrame(comparison_data)\n",
    "\n",
    "print(\"📊 Portfolio Comparison Analysis:\")\n",
    "print(\"=\" * 80)\n",
    "display(comparison_df)"
   ]
  },
  {
   "cell_type": "code",
   "execution_count": 39,
   "metadata": {},
   "outputs": [
    {
     "data": {
      "application/vnd.plotly.v1+json": {
       "config": {
        "plotlyServerURL": "https://plot.ly"
       },
       "data": [
        {
         "domain": {
          "x": [
           0,
           0.2888888888888889
          ],
          "y": [
           0.625,
           1
          ]
         },
         "labels": [
          "VOO",
          "VEA",
          "VWO",
          "VB",
          "BND",
          "IEF",
          "GLD",
          "BTC-USD"
         ],
         "marker": {
          "colors": [
           "rgb(141,211,199)",
           "rgb(255,255,179)",
           "rgb(190,186,218)",
           "rgb(251,128,114)",
           "rgb(128,177,211)",
           "rgb(253,180,98)",
           "rgb(179,222,105)",
           "rgb(252,205,229)",
           "rgb(217,217,217)",
           "rgb(188,128,189)",
           "rgb(204,235,197)",
           "rgb(255,237,111)"
          ]
         },
         "name": "Conservative",
         "textinfo": "percent+label",
         "textposition": "inside",
         "type": "pie",
         "values": {
          "bdata": "htOmGhLk2z/ymD7aGYC1P2Qqv2N029Q/AAAAAACIpzwAAAAAAMh8PAAAAAAAsI08rrcUFubAwz8AAAAAAAAAAA==",
          "dtype": "f8"
         }
        },
        {
         "domain": {
          "x": [
           0.35555555555555557,
           0.6444444444444445
          ],
          "y": [
           0.625,
           1
          ]
         },
         "labels": [
          "VOO",
          "VEA",
          "VWO",
          "VB",
          "BND",
          "IEF",
          "GLD",
          "BTC-USD"
         ],
         "marker": {
          "colors": [
           "rgb(141,211,199)",
           "rgb(255,255,179)",
           "rgb(190,186,218)",
           "rgb(251,128,114)",
           "rgb(128,177,211)",
           "rgb(253,180,98)",
           "rgb(179,222,105)",
           "rgb(252,205,229)",
           "rgb(217,217,217)",
           "rgb(188,128,189)",
           "rgb(204,235,197)",
           "rgb(255,237,111)"
          ]
         },
         "name": "Moderate",
         "textinfo": "percent+label",
         "textposition": "inside",
         "type": "pie",
         "values": {
          "bdata": "0V3OC6f1gDxbsqXVmbjEPz5n3yu9gOM/AAAAAAAAAAAAAAAAAAAAAOquAnGf8oA8rrDcenFEzT+3P3kbeUJUPA==",
          "dtype": "f8"
         }
        },
        {
         "domain": {
          "x": [
           0.7111111111111111,
           1
          ],
          "y": [
           0.625,
           1
          ]
         },
         "labels": [
          "VOO",
          "VEA",
          "VWO",
          "VB",
          "BND",
          "IEF",
          "GLD",
          "BTC-USD"
         ],
         "marker": {
          "colors": [
           "rgb(141,211,199)",
           "rgb(255,255,179)",
           "rgb(190,186,218)",
           "rgb(251,128,114)",
           "rgb(128,177,211)",
           "rgb(253,180,98)",
           "rgb(179,222,105)",
           "rgb(252,205,229)",
           "rgb(217,217,217)",
           "rgb(188,128,189)",
           "rgb(204,235,197)",
           "rgb(255,237,111)"
          ]
         },
         "name": "Aggressive",
         "textinfo": "percent+label",
         "textposition": "inside",
         "type": "pie",
         "values": {
          "bdata": "AAAAAAAAAAA0vVQFUfnTP5CUesRFPeU/ilREXKMVgTwoc3MDCHBiPOCkQn/NvV48qpphGzfCmD8AAAAAAAAAAA==",
          "dtype": "f8"
         }
        },
        {
         "domain": {
          "x": [
           0,
           0.2888888888888889
          ],
          "y": [
           0,
           0.375
          ]
         },
         "labels": [
          "VOO",
          "VEA",
          "VWO",
          "VB",
          "BND",
          "IEF",
          "GLD",
          "BTC-USD"
         ],
         "marker": {
          "colors": [
           "rgb(141,211,199)",
           "rgb(255,255,179)",
           "rgb(190,186,218)",
           "rgb(251,128,114)",
           "rgb(128,177,211)",
           "rgb(253,180,98)",
           "rgb(179,222,105)",
           "rgb(252,205,229)",
           "rgb(217,217,217)",
           "rgb(188,128,189)",
           "rgb(204,235,197)",
           "rgb(255,237,111)"
          ]
         },
         "name": "Current",
         "textinfo": "percent+label",
         "textposition": "inside",
         "type": "pie",
         "values": {
          "bdata": "bqIG/RJz1z/vVvzvefXBP5aQeK+ferg/Sd/Q8YE4xz+Hjg/EuayzPxLv9VMPY6E/J0fXjezKlz9nIVIHIAy1Pw==",
          "dtype": "f8"
         }
        },
        {
         "domain": {
          "x": [
           0.35555555555555557,
           0.6444444444444445
          ],
          "y": [
           0,
           0.375
          ]
         },
         "labels": [
          "VOO",
          "VEA",
          "VWO",
          "VB",
          "BND",
          "IEF",
          "GLD",
          "BTC-USD"
         ],
         "marker": {
          "colors": [
           "rgb(141,211,199)",
           "rgb(255,255,179)",
           "rgb(190,186,218)",
           "rgb(251,128,114)",
           "rgb(128,177,211)",
           "rgb(253,180,98)",
           "rgb(179,222,105)",
           "rgb(252,205,229)",
           "rgb(217,217,217)",
           "rgb(188,128,189)",
           "rgb(204,235,197)",
           "rgb(255,237,111)"
          ]
         },
         "name": "Max Sharpe",
         "textinfo": "percent+label",
         "textposition": "inside",
         "type": "pie",
         "values": {
          "bdata": "AAAAAAAAAADaxplzHsTFP50LXUzPn+M/AAAAAAAAAACdWqdSkJONPJhnvixJfns8twryWqS8yz8AAAAAAAAAAA==",
          "dtype": "f8"
         }
        },
        {
         "domain": {
          "x": [
           0.7111111111111111,
           1
          ],
          "y": [
           0,
           0.375
          ]
         },
         "labels": [
          "VOO",
          "VEA",
          "VWO",
          "VB",
          "BND",
          "IEF",
          "GLD",
          "BTC-USD"
         ],
         "marker": {
          "colors": [
           "rgb(141,211,199)",
           "rgb(255,255,179)",
           "rgb(190,186,218)",
           "rgb(251,128,114)",
           "rgb(128,177,211)",
           "rgb(253,180,98)",
           "rgb(179,222,105)",
           "rgb(252,205,229)",
           "rgb(217,217,217)",
           "rgb(188,128,189)",
           "rgb(204,235,197)",
           "rgb(255,237,111)"
          ]
         },
         "name": "Min Variance",
         "textinfo": "percent+label",
         "textposition": "inside",
         "type": "pie",
         "values": {
          "bdata": "ns6pa5JV7T9ft3MCJAdQP7T0kWRnn2s/AADTKDLbkjwAADCNItNYPAAAmEaRuWQ8ypKgyuCrpj8+xmXkyMChPw==",
          "dtype": "f8"
         }
        }
       ],
       "layout": {
        "annotations": [
         {
          "font": {
           "size": 16
          },
          "showarrow": false,
          "text": "Conservative",
          "x": 0.14444444444444446,
          "xanchor": "center",
          "xref": "paper",
          "y": 1,
          "yanchor": "bottom",
          "yref": "paper"
         },
         {
          "font": {
           "size": 16
          },
          "showarrow": false,
          "text": "Moderate",
          "x": 0.5,
          "xanchor": "center",
          "xref": "paper",
          "y": 1,
          "yanchor": "bottom",
          "yref": "paper"
         },
         {
          "font": {
           "size": 16
          },
          "showarrow": false,
          "text": "Aggressive",
          "x": 0.8555555555555556,
          "xanchor": "center",
          "xref": "paper",
          "y": 1,
          "yanchor": "bottom",
          "yref": "paper"
         },
         {
          "font": {
           "size": 16
          },
          "showarrow": false,
          "text": "Current",
          "x": 0.14444444444444446,
          "xanchor": "center",
          "xref": "paper",
          "y": 0.375,
          "yanchor": "bottom",
          "yref": "paper"
         },
         {
          "font": {
           "size": 16
          },
          "showarrow": false,
          "text": "Max Sharpe",
          "x": 0.5,
          "xanchor": "center",
          "xref": "paper",
          "y": 0.375,
          "yanchor": "bottom",
          "yref": "paper"
         },
         {
          "font": {
           "size": 16
          },
          "showarrow": false,
          "text": "Min Variance",
          "x": 0.8555555555555556,
          "xanchor": "center",
          "xref": "paper",
          "y": 0.375,
          "yanchor": "bottom",
          "yref": "paper"
         }
        ],
        "height": 800,
        "showlegend": false,
        "template": {
         "data": {
          "bar": [
           {
            "error_x": {
             "color": "#2a3f5f"
            },
            "error_y": {
             "color": "#2a3f5f"
            },
            "marker": {
             "line": {
              "color": "white",
              "width": 0.5
             },
             "pattern": {
              "fillmode": "overlay",
              "size": 10,
              "solidity": 0.2
             }
            },
            "type": "bar"
           }
          ],
          "barpolar": [
           {
            "marker": {
             "line": {
              "color": "white",
              "width": 0.5
             },
             "pattern": {
              "fillmode": "overlay",
              "size": 10,
              "solidity": 0.2
             }
            },
            "type": "barpolar"
           }
          ],
          "carpet": [
           {
            "aaxis": {
             "endlinecolor": "#2a3f5f",
             "gridcolor": "#C8D4E3",
             "linecolor": "#C8D4E3",
             "minorgridcolor": "#C8D4E3",
             "startlinecolor": "#2a3f5f"
            },
            "baxis": {
             "endlinecolor": "#2a3f5f",
             "gridcolor": "#C8D4E3",
             "linecolor": "#C8D4E3",
             "minorgridcolor": "#C8D4E3",
             "startlinecolor": "#2a3f5f"
            },
            "type": "carpet"
           }
          ],
          "choropleth": [
           {
            "colorbar": {
             "outlinewidth": 0,
             "ticks": ""
            },
            "type": "choropleth"
           }
          ],
          "contour": [
           {
            "colorbar": {
             "outlinewidth": 0,
             "ticks": ""
            },
            "colorscale": [
             [
              0,
              "#0d0887"
             ],
             [
              0.1111111111111111,
              "#46039f"
             ],
             [
              0.2222222222222222,
              "#7201a8"
             ],
             [
              0.3333333333333333,
              "#9c179e"
             ],
             [
              0.4444444444444444,
              "#bd3786"
             ],
             [
              0.5555555555555556,
              "#d8576b"
             ],
             [
              0.6666666666666666,
              "#ed7953"
             ],
             [
              0.7777777777777778,
              "#fb9f3a"
             ],
             [
              0.8888888888888888,
              "#fdca26"
             ],
             [
              1,
              "#f0f921"
             ]
            ],
            "type": "contour"
           }
          ],
          "contourcarpet": [
           {
            "colorbar": {
             "outlinewidth": 0,
             "ticks": ""
            },
            "type": "contourcarpet"
           }
          ],
          "heatmap": [
           {
            "colorbar": {
             "outlinewidth": 0,
             "ticks": ""
            },
            "colorscale": [
             [
              0,
              "#0d0887"
             ],
             [
              0.1111111111111111,
              "#46039f"
             ],
             [
              0.2222222222222222,
              "#7201a8"
             ],
             [
              0.3333333333333333,
              "#9c179e"
             ],
             [
              0.4444444444444444,
              "#bd3786"
             ],
             [
              0.5555555555555556,
              "#d8576b"
             ],
             [
              0.6666666666666666,
              "#ed7953"
             ],
             [
              0.7777777777777778,
              "#fb9f3a"
             ],
             [
              0.8888888888888888,
              "#fdca26"
             ],
             [
              1,
              "#f0f921"
             ]
            ],
            "type": "heatmap"
           }
          ],
          "histogram": [
           {
            "marker": {
             "pattern": {
              "fillmode": "overlay",
              "size": 10,
              "solidity": 0.2
             }
            },
            "type": "histogram"
           }
          ],
          "histogram2d": [
           {
            "colorbar": {
             "outlinewidth": 0,
             "ticks": ""
            },
            "colorscale": [
             [
              0,
              "#0d0887"
             ],
             [
              0.1111111111111111,
              "#46039f"
             ],
             [
              0.2222222222222222,
              "#7201a8"
             ],
             [
              0.3333333333333333,
              "#9c179e"
             ],
             [
              0.4444444444444444,
              "#bd3786"
             ],
             [
              0.5555555555555556,
              "#d8576b"
             ],
             [
              0.6666666666666666,
              "#ed7953"
             ],
             [
              0.7777777777777778,
              "#fb9f3a"
             ],
             [
              0.8888888888888888,
              "#fdca26"
             ],
             [
              1,
              "#f0f921"
             ]
            ],
            "type": "histogram2d"
           }
          ],
          "histogram2dcontour": [
           {
            "colorbar": {
             "outlinewidth": 0,
             "ticks": ""
            },
            "colorscale": [
             [
              0,
              "#0d0887"
             ],
             [
              0.1111111111111111,
              "#46039f"
             ],
             [
              0.2222222222222222,
              "#7201a8"
             ],
             [
              0.3333333333333333,
              "#9c179e"
             ],
             [
              0.4444444444444444,
              "#bd3786"
             ],
             [
              0.5555555555555556,
              "#d8576b"
             ],
             [
              0.6666666666666666,
              "#ed7953"
             ],
             [
              0.7777777777777778,
              "#fb9f3a"
             ],
             [
              0.8888888888888888,
              "#fdca26"
             ],
             [
              1,
              "#f0f921"
             ]
            ],
            "type": "histogram2dcontour"
           }
          ],
          "mesh3d": [
           {
            "colorbar": {
             "outlinewidth": 0,
             "ticks": ""
            },
            "type": "mesh3d"
           }
          ],
          "parcoords": [
           {
            "line": {
             "colorbar": {
              "outlinewidth": 0,
              "ticks": ""
             }
            },
            "type": "parcoords"
           }
          ],
          "pie": [
           {
            "automargin": true,
            "type": "pie"
           }
          ],
          "scatter": [
           {
            "fillpattern": {
             "fillmode": "overlay",
             "size": 10,
             "solidity": 0.2
            },
            "type": "scatter"
           }
          ],
          "scatter3d": [
           {
            "line": {
             "colorbar": {
              "outlinewidth": 0,
              "ticks": ""
             }
            },
            "marker": {
             "colorbar": {
              "outlinewidth": 0,
              "ticks": ""
             }
            },
            "type": "scatter3d"
           }
          ],
          "scattercarpet": [
           {
            "marker": {
             "colorbar": {
              "outlinewidth": 0,
              "ticks": ""
             }
            },
            "type": "scattercarpet"
           }
          ],
          "scattergeo": [
           {
            "marker": {
             "colorbar": {
              "outlinewidth": 0,
              "ticks": ""
             }
            },
            "type": "scattergeo"
           }
          ],
          "scattergl": [
           {
            "marker": {
             "colorbar": {
              "outlinewidth": 0,
              "ticks": ""
             }
            },
            "type": "scattergl"
           }
          ],
          "scattermap": [
           {
            "marker": {
             "colorbar": {
              "outlinewidth": 0,
              "ticks": ""
             }
            },
            "type": "scattermap"
           }
          ],
          "scattermapbox": [
           {
            "marker": {
             "colorbar": {
              "outlinewidth": 0,
              "ticks": ""
             }
            },
            "type": "scattermapbox"
           }
          ],
          "scatterpolar": [
           {
            "marker": {
             "colorbar": {
              "outlinewidth": 0,
              "ticks": ""
             }
            },
            "type": "scatterpolar"
           }
          ],
          "scatterpolargl": [
           {
            "marker": {
             "colorbar": {
              "outlinewidth": 0,
              "ticks": ""
             }
            },
            "type": "scatterpolargl"
           }
          ],
          "scatterternary": [
           {
            "marker": {
             "colorbar": {
              "outlinewidth": 0,
              "ticks": ""
             }
            },
            "type": "scatterternary"
           }
          ],
          "surface": [
           {
            "colorbar": {
             "outlinewidth": 0,
             "ticks": ""
            },
            "colorscale": [
             [
              0,
              "#0d0887"
             ],
             [
              0.1111111111111111,
              "#46039f"
             ],
             [
              0.2222222222222222,
              "#7201a8"
             ],
             [
              0.3333333333333333,
              "#9c179e"
             ],
             [
              0.4444444444444444,
              "#bd3786"
             ],
             [
              0.5555555555555556,
              "#d8576b"
             ],
             [
              0.6666666666666666,
              "#ed7953"
             ],
             [
              0.7777777777777778,
              "#fb9f3a"
             ],
             [
              0.8888888888888888,
              "#fdca26"
             ],
             [
              1,
              "#f0f921"
             ]
            ],
            "type": "surface"
           }
          ],
          "table": [
           {
            "cells": {
             "fill": {
              "color": "#EBF0F8"
             },
             "line": {
              "color": "white"
             }
            },
            "header": {
             "fill": {
              "color": "#C8D4E3"
             },
             "line": {
              "color": "white"
             }
            },
            "type": "table"
           }
          ]
         },
         "layout": {
          "annotationdefaults": {
           "arrowcolor": "#2a3f5f",
           "arrowhead": 0,
           "arrowwidth": 1
          },
          "autotypenumbers": "strict",
          "coloraxis": {
           "colorbar": {
            "outlinewidth": 0,
            "ticks": ""
           }
          },
          "colorscale": {
           "diverging": [
            [
             0,
             "#8e0152"
            ],
            [
             0.1,
             "#c51b7d"
            ],
            [
             0.2,
             "#de77ae"
            ],
            [
             0.3,
             "#f1b6da"
            ],
            [
             0.4,
             "#fde0ef"
            ],
            [
             0.5,
             "#f7f7f7"
            ],
            [
             0.6,
             "#e6f5d0"
            ],
            [
             0.7,
             "#b8e186"
            ],
            [
             0.8,
             "#7fbc41"
            ],
            [
             0.9,
             "#4d9221"
            ],
            [
             1,
             "#276419"
            ]
           ],
           "sequential": [
            [
             0,
             "#0d0887"
            ],
            [
             0.1111111111111111,
             "#46039f"
            ],
            [
             0.2222222222222222,
             "#7201a8"
            ],
            [
             0.3333333333333333,
             "#9c179e"
            ],
            [
             0.4444444444444444,
             "#bd3786"
            ],
            [
             0.5555555555555556,
             "#d8576b"
            ],
            [
             0.6666666666666666,
             "#ed7953"
            ],
            [
             0.7777777777777778,
             "#fb9f3a"
            ],
            [
             0.8888888888888888,
             "#fdca26"
            ],
            [
             1,
             "#f0f921"
            ]
           ],
           "sequentialminus": [
            [
             0,
             "#0d0887"
            ],
            [
             0.1111111111111111,
             "#46039f"
            ],
            [
             0.2222222222222222,
             "#7201a8"
            ],
            [
             0.3333333333333333,
             "#9c179e"
            ],
            [
             0.4444444444444444,
             "#bd3786"
            ],
            [
             0.5555555555555556,
             "#d8576b"
            ],
            [
             0.6666666666666666,
             "#ed7953"
            ],
            [
             0.7777777777777778,
             "#fb9f3a"
            ],
            [
             0.8888888888888888,
             "#fdca26"
            ],
            [
             1,
             "#f0f921"
            ]
           ]
          },
          "colorway": [
           "#636efa",
           "#EF553B",
           "#00cc96",
           "#ab63fa",
           "#FFA15A",
           "#19d3f3",
           "#FF6692",
           "#B6E880",
           "#FF97FF",
           "#FECB52"
          ],
          "font": {
           "color": "#2a3f5f"
          },
          "geo": {
           "bgcolor": "white",
           "lakecolor": "white",
           "landcolor": "white",
           "showlakes": true,
           "showland": true,
           "subunitcolor": "#C8D4E3"
          },
          "hoverlabel": {
           "align": "left"
          },
          "hovermode": "closest",
          "mapbox": {
           "style": "light"
          },
          "paper_bgcolor": "white",
          "plot_bgcolor": "white",
          "polar": {
           "angularaxis": {
            "gridcolor": "#EBF0F8",
            "linecolor": "#EBF0F8",
            "ticks": ""
           },
           "bgcolor": "white",
           "radialaxis": {
            "gridcolor": "#EBF0F8",
            "linecolor": "#EBF0F8",
            "ticks": ""
           }
          },
          "scene": {
           "xaxis": {
            "backgroundcolor": "white",
            "gridcolor": "#DFE8F3",
            "gridwidth": 2,
            "linecolor": "#EBF0F8",
            "showbackground": true,
            "ticks": "",
            "zerolinecolor": "#EBF0F8"
           },
           "yaxis": {
            "backgroundcolor": "white",
            "gridcolor": "#DFE8F3",
            "gridwidth": 2,
            "linecolor": "#EBF0F8",
            "showbackground": true,
            "ticks": "",
            "zerolinecolor": "#EBF0F8"
           },
           "zaxis": {
            "backgroundcolor": "white",
            "gridcolor": "#DFE8F3",
            "gridwidth": 2,
            "linecolor": "#EBF0F8",
            "showbackground": true,
            "ticks": "",
            "zerolinecolor": "#EBF0F8"
           }
          },
          "shapedefaults": {
           "line": {
            "color": "#2a3f5f"
           }
          },
          "ternary": {
           "aaxis": {
            "gridcolor": "#DFE8F3",
            "linecolor": "#A2B1C6",
            "ticks": ""
           },
           "baxis": {
            "gridcolor": "#DFE8F3",
            "linecolor": "#A2B1C6",
            "ticks": ""
           },
           "bgcolor": "white",
           "caxis": {
            "gridcolor": "#DFE8F3",
            "linecolor": "#A2B1C6",
            "ticks": ""
           }
          },
          "title": {
           "x": 0.05
          },
          "xaxis": {
           "automargin": true,
           "gridcolor": "#EBF0F8",
           "linecolor": "#EBF0F8",
           "ticks": "",
           "title": {
            "standoff": 15
           },
           "zerolinecolor": "#EBF0F8",
           "zerolinewidth": 2
          },
          "yaxis": {
           "automargin": true,
           "gridcolor": "#EBF0F8",
           "linecolor": "#EBF0F8",
           "ticks": "",
           "title": {
            "standoff": 15
           },
           "zerolinecolor": "#EBF0F8",
           "zerolinewidth": 2
          }
         }
        },
        "title": {
         "text": "🥧 Portfolio Allocation Comparison",
         "x": 0.5
        }
       }
      }
     },
     "metadata": {},
     "output_type": "display_data"
    }
   ],
   "source": [
    "# Visualize portfolio allocations comparison\n",
    "fig = make_subplots(\n",
    "    rows=2, cols=3,\n",
    "    subplot_titles=list(risk_portfolios.keys()) + ['Current', 'Max Sharpe', 'Min Variance'],\n",
    "    specs=[[{\"type\": \"pie\"} for _ in range(3)] for _ in range(2)]\n",
    ")\n",
    "\n",
    "portfolio_names = list(risk_portfolios.keys()) + ['Current', 'Max Sharpe', 'Min Variance']\n",
    "portfolio_list = list(risk_portfolios.values()) + [\n",
    "    {'weights': current_weights},\n",
    "    {'weights': max_sharpe_weights},\n",
    "    {'weights': min_var_weights}\n",
    "]\n",
    "\n",
    "colors = px.colors.qualitative.Set3\n",
    "\n",
    "for idx, (name, data) in enumerate(zip(portfolio_names, portfolio_list)):\n",
    "    row = idx // 3 + 1\n",
    "    col = idx % 3 + 1\n",
    "    \n",
    "    fig.add_trace(\n",
    "        go.Pie(\n",
    "            labels=tickers,\n",
    "            values=data['weights'],\n",
    "            name=name,\n",
    "            marker=dict(colors=colors)\n",
    "        ),\n",
    "        row=row, col=col\n",
    "    )\n",
    "\n",
    "fig.update_traces(textposition='inside', textinfo='percent+label')\n",
    "fig.update_layout(\n",
    "    height=800,\n",
    "    title_text=\"🥧 Portfolio Allocation Comparison\",\n",
    "    title_x=0.5,\n",
    "    showlegend=False\n",
    ")\n",
    "\n",
    "fig.show()"
   ]
  },
  {
   "cell_type": "markdown",
   "metadata": {},
   "source": [
    "## 6. Implementation Recommendations and Action Plan"
   ]
  },
  {
   "cell_type": "code",
   "execution_count": 40,
   "metadata": {},
   "outputs": [
    {
     "name": "stdout",
     "output_type": "stream",
     "text": [
      "🎯 PORTFOLIO OPTIMIZATION RECOMMENDATIONS\n",
      "============================================================\n",
      "💰 Investable Portfolio Value: $113,758.05\n",
      "💵 Cash Reserve: $1,000.00\n",
      "\n",
      "📈 Rebalancing Requirements (Max Sharpe Portfolio):\n",
      "------------------------------------------------------------\n"
     ]
    },
    {
     "data": {
      "text/html": [
       "<div>\n",
       "<style scoped>\n",
       "    .dataframe tbody tr th:only-of-type {\n",
       "        vertical-align: middle;\n",
       "    }\n",
       "\n",
       "    .dataframe tbody tr th {\n",
       "        vertical-align: top;\n",
       "    }\n",
       "\n",
       "    .dataframe thead th {\n",
       "        text-align: right;\n",
       "    }\n",
       "</style>\n",
       "<table border=\"1\" class=\"dataframe\">\n",
       "  <thead>\n",
       "    <tr style=\"text-align: right;\">\n",
       "      <th></th>\n",
       "      <th>ticker</th>\n",
       "      <th>Current %</th>\n",
       "      <th>Target %</th>\n",
       "      <th>Change %</th>\n",
       "      <th>Rebalance $</th>\n",
       "    </tr>\n",
       "  </thead>\n",
       "  <tbody>\n",
       "    <tr>\n",
       "      <th>0</th>\n",
       "      <td>VOO</td>\n",
       "      <td>36.6</td>\n",
       "      <td>0.0</td>\n",
       "      <td>-36.6</td>\n",
       "      <td>-41671.0</td>\n",
       "    </tr>\n",
       "    <tr>\n",
       "      <th>1</th>\n",
       "      <td>VEA</td>\n",
       "      <td>14.0</td>\n",
       "      <td>17.0</td>\n",
       "      <td>3.0</td>\n",
       "      <td>3414.0</td>\n",
       "    </tr>\n",
       "    <tr>\n",
       "      <th>2</th>\n",
       "      <td>VWO</td>\n",
       "      <td>9.5</td>\n",
       "      <td>61.3</td>\n",
       "      <td>51.8</td>\n",
       "      <td>58915.0</td>\n",
       "    </tr>\n",
       "    <tr>\n",
       "      <th>3</th>\n",
       "      <td>VB</td>\n",
       "      <td>18.1</td>\n",
       "      <td>0.0</td>\n",
       "      <td>-18.1</td>\n",
       "      <td>-20646.0</td>\n",
       "    </tr>\n",
       "    <tr>\n",
       "      <th>4</th>\n",
       "      <td>BND</td>\n",
       "      <td>7.7</td>\n",
       "      <td>0.0</td>\n",
       "      <td>-7.7</td>\n",
       "      <td>-8742.0</td>\n",
       "    </tr>\n",
       "    <tr>\n",
       "      <th>5</th>\n",
       "      <td>IEF</td>\n",
       "      <td>3.4</td>\n",
       "      <td>0.0</td>\n",
       "      <td>-3.4</td>\n",
       "      <td>-3904.0</td>\n",
       "    </tr>\n",
       "    <tr>\n",
       "      <th>6</th>\n",
       "      <td>GLD</td>\n",
       "      <td>2.3</td>\n",
       "      <td>21.7</td>\n",
       "      <td>19.3</td>\n",
       "      <td>22009.0</td>\n",
       "    </tr>\n",
       "    <tr>\n",
       "      <th>7</th>\n",
       "      <td>BTC-USD</td>\n",
       "      <td>8.2</td>\n",
       "      <td>0.0</td>\n",
       "      <td>-8.2</td>\n",
       "      <td>-9375.0</td>\n",
       "    </tr>\n",
       "  </tbody>\n",
       "</table>\n",
       "</div>"
      ],
      "text/plain": [
       "    ticker  Current %  Target %  Change %  Rebalance $\n",
       "0      VOO       36.6       0.0     -36.6     -41671.0\n",
       "1      VEA       14.0      17.0       3.0       3414.0\n",
       "2      VWO        9.5      61.3      51.8      58915.0\n",
       "3       VB       18.1       0.0     -18.1     -20646.0\n",
       "4      BND        7.7       0.0      -7.7      -8742.0\n",
       "5      IEF        3.4       0.0      -3.4      -3904.0\n",
       "6      GLD        2.3      21.7      19.3      22009.0\n",
       "7  BTC-USD        8.2       0.0      -8.2      -9375.0"
      ]
     },
     "metadata": {},
     "output_type": "display_data"
    },
    {
     "name": "stdout",
     "output_type": "stream",
     "text": [
      "\n",
      "📈 Major Position Increases:\n",
      "   • VWO: +51.8% ($58,915)\n",
      "   • GLD: +19.3% ($22,009)\n",
      "\n",
      "📉 Major Position Decreases:\n",
      "   • VOO: -36.6% ($-41,671)\n",
      "   • VB: -18.1% ($-20,646)\n",
      "   • BND: -7.7% ($-8,742)\n",
      "   • BTC-USD: -8.2% ($-9,375)\n"
     ]
    }
   ],
   "source": [
    "# Calculate rebalancing requirements for Max Sharpe portfolio\n",
    "print(\"🎯 PORTFOLIO OPTIMIZATION RECOMMENDATIONS\")\n",
    "print(\"=\" * 60)\n",
    "\n",
    "# Current portfolio value (excluding cash)\n",
    "investable_value = portfolio_df[portfolio_df['ticker'] != 'CASH']['market_value'].sum()\n",
    "\n",
    "print(f\"💰 Investable Portfolio Value: ${investable_value:,.2f}\")\n",
    "print(f\"💵 Cash Reserve: ${portfolio_df[portfolio_df['ticker'] == 'CASH']['market_value'].iloc[0]:,.2f}\")\n",
    "\n",
    "# Rebalancing analysis for Max Sharpe portfolio\n",
    "rebalancing_df = portfolio_df[portfolio_df['ticker'] != 'CASH'].copy()\n",
    "rebalancing_df = rebalancing_df.merge(\n",
    "    pd.DataFrame({'ticker': tickers, 'optimal_weight': max_sharpe_weights}),\n",
    "    on='ticker'\n",
    ")\n",
    "\n",
    "rebalancing_df['current_weight_adj'] = rebalancing_df['market_value'] / investable_value\n",
    "rebalancing_df['target_value'] = rebalancing_df['optimal_weight'] * investable_value\n",
    "rebalancing_df['rebalance_amount'] = rebalancing_df['target_value'] - rebalancing_df['market_value']\n",
    "rebalancing_df['weight_change'] = rebalancing_df['optimal_weight'] - rebalancing_df['current_weight_adj']\n",
    "\n",
    "print(\"\\n📈 Rebalancing Requirements (Max Sharpe Portfolio):\")\n",
    "print(\"-\" * 60)\n",
    "\n",
    "rebalance_summary = rebalancing_df[[\n",
    "    'ticker', 'current_weight_adj', 'optimal_weight', 'weight_change', \n",
    "    'market_value', 'target_value', 'rebalance_amount'\n",
    "]].copy()\n",
    "\n",
    "rebalance_summary['Current %'] = (rebalance_summary['current_weight_adj'] * 100).round(1)\n",
    "rebalance_summary['Target %'] = (rebalance_summary['optimal_weight'] * 100).round(1)\n",
    "rebalance_summary['Change %'] = (rebalance_summary['weight_change'] * 100).round(1)\n",
    "rebalance_summary['Rebalance $'] = rebalance_summary['rebalance_amount'].round(0)\n",
    "\n",
    "display(rebalance_summary[['ticker', 'Current %', 'Target %', 'Change %', 'Rebalance $']])\n",
    "\n",
    "# Identify major moves\n",
    "major_increases = rebalance_summary[rebalance_summary['Change %'] > 5]\n",
    "major_decreases = rebalance_summary[rebalance_summary['Change %'] < -5]\n",
    "\n",
    "if not major_increases.empty:\n",
    "    print(\"\\n📈 Major Position Increases:\")\n",
    "    for _, row in major_increases.iterrows():\n",
    "        print(f\"   • {row['ticker']}: +{row['Change %']:.1f}% (${row['Rebalance $']:,.0f})\")\n",
    "\n",
    "if not major_decreases.empty:\n",
    "    print(\"\\n📉 Major Position Decreases:\")\n",
    "    for _, row in major_decreases.iterrows():\n",
    "        print(f\"   • {row['ticker']}: {row['Change %']:.1f}% (${row['Rebalance $']:,.0f})\")"
   ]
  },
  {
   "cell_type": "code",
   "execution_count": 41,
   "metadata": {},
   "outputs": [
    {
     "name": "stdout",
     "output_type": "stream",
     "text": [
      "\n",
      "🚀 EXPECTED PERFORMANCE IMPROVEMENT:\n",
      "==================================================\n"
     ]
    },
    {
     "data": {
      "text/html": [
       "<div>\n",
       "<style scoped>\n",
       "    .dataframe tbody tr th:only-of-type {\n",
       "        vertical-align: middle;\n",
       "    }\n",
       "\n",
       "    .dataframe tbody tr th {\n",
       "        vertical-align: top;\n",
       "    }\n",
       "\n",
       "    .dataframe thead th {\n",
       "        text-align: right;\n",
       "    }\n",
       "</style>\n",
       "<table border=\"1\" class=\"dataframe\">\n",
       "  <thead>\n",
       "    <tr style=\"text-align: right;\">\n",
       "      <th></th>\n",
       "      <th>Return</th>\n",
       "      <th>Volatility</th>\n",
       "      <th>Sharpe</th>\n",
       "      <th>Return Improvement</th>\n",
       "      <th>Volatility Change</th>\n",
       "      <th>Sharpe Improvement</th>\n",
       "    </tr>\n",
       "  </thead>\n",
       "  <tbody>\n",
       "    <tr>\n",
       "      <th>Current Portfolio</th>\n",
       "      <td>10.832</td>\n",
       "      <td>8.730</td>\n",
       "      <td>1.241</td>\n",
       "      <td>0.000</td>\n",
       "      <td>0.000</td>\n",
       "      <td>0.000</td>\n",
       "    </tr>\n",
       "    <tr>\n",
       "      <th>Optimized (Max Sharpe)</th>\n",
       "      <td>20.023</td>\n",
       "      <td>12.387</td>\n",
       "      <td>1.617</td>\n",
       "      <td>9.191</td>\n",
       "      <td>3.656</td>\n",
       "      <td>0.376</td>\n",
       "    </tr>\n",
       "  </tbody>\n",
       "</table>\n",
       "</div>"
      ],
      "text/plain": [
       "                        Return  Volatility  Sharpe  Return Improvement  \\\n",
       "Current Portfolio       10.832       8.730   1.241               0.000   \n",
       "Optimized (Max Sharpe)  20.023      12.387   1.617               9.191   \n",
       "\n",
       "                        Volatility Change  Sharpe Improvement  \n",
       "Current Portfolio                   0.000               0.000  \n",
       "Optimized (Max Sharpe)              3.656               0.376  "
      ]
     },
     "metadata": {},
     "output_type": "display_data"
    },
    {
     "name": "stdout",
     "output_type": "stream",
     "text": [
      "\n",
      "💰 Expected Annual Return Improvement: $10,455\n",
      "📊 Sharpe Ratio Improvement: 0.376\n",
      "📉 Risk-Adjusted Performance: 30.3% better\n"
     ]
    }
   ],
   "source": [
    "# Performance improvement analysis\n",
    "performance_improvement = {\n",
    "    'Current Portfolio': {\n",
    "        'Return': current_return * 100,\n",
    "        'Volatility': current_vol * 100,\n",
    "        'Sharpe': current_sharpe\n",
    "    },\n",
    "    'Optimized (Max Sharpe)': {\n",
    "        'Return': max_sharpe_return * 100,\n",
    "        'Volatility': max_sharpe_vol * 100,\n",
    "        'Sharpe': max_sharpe_ratio\n",
    "    }\n",
    "}\n",
    "\n",
    "improvement_df = pd.DataFrame(performance_improvement).T\n",
    "improvement_df['Return Improvement'] = improvement_df['Return'] - current_return * 100\n",
    "improvement_df['Volatility Change'] = improvement_df['Volatility'] - current_vol * 100\n",
    "improvement_df['Sharpe Improvement'] = improvement_df['Sharpe'] - current_sharpe\n",
    "\n",
    "print(\"\\n🚀 EXPECTED PERFORMANCE IMPROVEMENT:\")\n",
    "print(\"=\" * 50)\n",
    "display(improvement_df.round(3))\n",
    "\n",
    "# Calculate expected annual improvement in dollar terms\n",
    "return_improvement = (max_sharpe_return - current_return) * investable_value\n",
    "print(f\"\\n💰 Expected Annual Return Improvement: ${return_improvement:,.0f}\")\n",
    "print(f\"📊 Sharpe Ratio Improvement: {max_sharpe_ratio - current_sharpe:.3f}\")\n",
    "print(f\"📉 Risk-Adjusted Performance: {((max_sharpe_ratio - current_sharpe) / current_sharpe) * 100:.1f}% better\")"
   ]
  },
  {
   "cell_type": "code",
   "execution_count": 42,
   "metadata": {},
   "outputs": [
    {
     "name": "stdout",
     "output_type": "stream",
     "text": [
      "\n",
      "🎯 EXECUTIVE SUMMARY & RECOMMENDATIONS\n",
      "============================================================\n",
      "\n",
      "📊 CURRENT PORTFOLIO ASSESSMENT:\n",
      "   • Portfolio Value: $114,758.05\n",
      "   • Unrealized P&L: $13,358.05 (13.17%)\n",
      "   • Current Sharpe Ratio: 1.241\n",
      "   • Diversification: 8 securities across 9 asset classes\n",
      "\n",
      "🚀 OPTIMIZATION BENEFITS:\n",
      "   • Sharpe Ratio Improvement: +0.376 (30.3%)\n",
      "   • Expected Return Enhancement: +9.19% annually\n",
      "   • Dollar Impact: ~$10,455 additional annual return\n",
      "\n",
      "🎯 KEY RECOMMENDATIONS:\n",
      "\n",
      "   📈 Top Rebalancing Actions:\n",
      "   1. Increase VWO by 51.8% ($58,915)\n",
      "   2. Decrease VOO by 36.6% ($-41,671)\n",
      "   3. Increase GLD by 19.3% ($22,009)\n",
      "\n",
      "   💡 Strategic Considerations:\n",
      "   • Consider tax implications of rebalancing\n",
      "   • Implement gradually to minimize market impact\n",
      "   • Review and rebalance quarterly\n",
      "   • Maintain 1-2% cash buffer for opportunities\n",
      "\n",
      "   🔄 Alternative Approaches:\n",
      "   • Conservative: 11.67% return, 7.81% vol, 1.495 Sharpe\n",
      "   • Moderate: 19.73% return, 12.21% vol, 1.616 Sharpe\n",
      "   • Aggressive: 25.10% return, 16.18% vol, 1.551 Sharpe\n",
      "\n",
      "✅ NEXT STEPS:\n",
      "   1. Review optimization recommendations with your advisor\n",
      "   2. Consider tax-loss harvesting opportunities\n",
      "   3. Implement rebalancing over 2-4 weeks\n",
      "   4. Set up quarterly portfolio review schedule\n",
      "   5. Monitor performance vs. benchmarks\n",
      "\n",
      "📈 Expected outcome: A more efficient portfolio with improved risk-adjusted returns\n",
      "🎯 Confidence level: High (based on 3-year historical analysis)\n"
     ]
    }
   ],
   "source": [
    "# Final recommendations summary\n",
    "print(\"\\n🎯 EXECUTIVE SUMMARY & RECOMMENDATIONS\")\n",
    "print(\"=\" * 60)\n",
    "\n",
    "print(\"\\n📊 CURRENT PORTFOLIO ASSESSMENT:\")\n",
    "print(f\"   • Portfolio Value: ${total_market_value:,.2f}\")\n",
    "print(f\"   • Unrealized P&L: ${total_unrealized_pl:,.2f} ({overall_return:.2f}%)\")\n",
    "print(f\"   • Current Sharpe Ratio: {current_sharpe:.3f}\")\n",
    "print(f\"   • Diversification: {len(tickers)} securities across {len(portfolio_df['asset_class'].unique())} asset classes\")\n",
    "\n",
    "print(\"\\n🚀 OPTIMIZATION BENEFITS:\")\n",
    "print(f\"   • Sharpe Ratio Improvement: +{max_sharpe_ratio - current_sharpe:.3f} ({((max_sharpe_ratio - current_sharpe) / current_sharpe) * 100:.1f}%)\")\n",
    "print(f\"   • Expected Return Enhancement: +{(max_sharpe_return - current_return) * 100:.2f}% annually\")\n",
    "print(f\"   • Dollar Impact: ~${return_improvement:,.0f} additional annual return\")\n",
    "\n",
    "print(\"\\n🎯 KEY RECOMMENDATIONS:\")\n",
    "\n",
    "# Top 3 rebalancing moves\n",
    "top_moves = rebalance_summary.reindex(rebalance_summary['Change %'].abs().sort_values(ascending=False).index).head(3)\n",
    "\n",
    "print(\"\\n   📈 Top Rebalancing Actions:\")\n",
    "for i, (_, row) in enumerate(top_moves.iterrows(), 1):\n",
    "    action = \"Increase\" if row['Change %'] > 0 else \"Decrease\"\n",
    "    print(f\"   {i}. {action} {row['ticker']} by {abs(row['Change %']):.1f}% (${row['Rebalance $']:,.0f})\")\n",
    "\n",
    "print(\"\\n   💡 Strategic Considerations:\")\n",
    "print(\"   • Consider tax implications of rebalancing\")\n",
    "print(\"   • Implement gradually to minimize market impact\")\n",
    "print(\"   • Review and rebalance quarterly\")\n",
    "print(\"   • Maintain 1-2% cash buffer for opportunities\")\n",
    "\n",
    "print(\"\\n   🔄 Alternative Approaches:\")\n",
    "for risk_level, data in risk_portfolios.items():\n",
    "    print(f\"   • {risk_level}: {data['return']*100:.2f}% return, {data['volatility']*100:.2f}% vol, {data['sharpe']:.3f} Sharpe\")\n",
    "\n",
    "print(\"\\n✅ NEXT STEPS:\")\n",
    "print(\"   1. Review optimization recommendations with your advisor\")\n",
    "print(\"   2. Consider tax-loss harvesting opportunities\")\n",
    "print(\"   3. Implement rebalancing over 2-4 weeks\")\n",
    "print(\"   4. Set up quarterly portfolio review schedule\")\n",
    "print(\"   5. Monitor performance vs. benchmarks\")\n",
    "\n",
    "print(f\"\\n📈 Expected outcome: A more efficient portfolio with improved risk-adjusted returns\")\n",
    "print(f\"🎯 Confidence level: High (based on 3-year historical analysis)\")"
   ]
  },
  {
   "cell_type": "markdown",
   "metadata": {},
   "source": [
    "---\n",
    "\n",
    "## Conclusion\n",
    "\n",
    "This analysis demonstrates the power of Modern Portfolio Theory in optimizing risk-adjusted returns. The current portfolio, while well-diversified, can benefit from strategic rebalancing based on historical return patterns and correlations.\n",
    "\n",
    "**Key Findings:**\n",
    "- The current portfolio has room for improvement in risk-adjusted returns\n",
    "- Optimal rebalancing could enhance the Sharpe ratio significantly\n",
    "- The efficient frontier provides multiple viable allocation strategies for different risk tolerances\n",
    "\n",
    "**Implementation Priority:**\n",
    "1. **High Priority**: Positions requiring significant rebalancing (>5% weight change)\n",
    "2. **Medium Priority**: Fine-tuning allocations for better correlation benefits\n",
    "3. **Low Priority**: Minor adjustments and ongoing monitoring\n",
    "\n",
    "*This analysis is based on historical data and should be combined with forward-looking market views and individual circumstances.*"
   ]
  }
 ],
 "metadata": {
  "kernelspec": {
   "display_name": "Python 3 (ipykernel)",
   "language": "python",
   "name": "python3"
  },
  "language_info": {
   "codemirror_mode": {
    "name": "ipython",
    "version": 3
   },
   "file_extension": ".py",
   "mimetype": "text/x-python",
   "name": "python",
   "nbconvert_exporter": "python",
   "pygments_lexer": "ipython3",
   "version": "3.10.15"
  }
 },
 "nbformat": 4,
 "nbformat_minor": 4
}
